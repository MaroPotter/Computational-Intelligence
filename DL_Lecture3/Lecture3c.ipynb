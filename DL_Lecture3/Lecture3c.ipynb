{
 "cells": [
  {
   "cell_type": "code",
   "execution_count": null,
   "metadata": {},
   "outputs": [],
   "source": [
    "import keras\n",
    "keras.__version__"
   ]
  },
  {
   "cell_type": "markdown",
   "metadata": {},
   "source": [
    "# https://keras.io/applications/"
   ]
  },
  {
   "cell_type": "code",
   "execution_count": null,
   "metadata": {},
   "outputs": [],
   "source": [
    "\n",
    "from keras.applications import VGG16\n",
    "from keras.applications import ResNet50\n",
    "from keras.applications import InceptionV3\n",
    "from keras.applications import Xception # TensorFlow ONLY\n",
    "from keras.applications import VGG19\n",
    "\n",
    "from keras.applications import imagenet_utils\n",
    "from keras.preprocessing.image import img_to_array\n",
    "from keras.preprocessing.image import load_img\n",
    "from keras.applications.inception_v3 import preprocess_input\n",
    "\n",
    "MODELS = {\n",
    "    \"vgg16\": VGG16,\n",
    "    \"vgg19\": VGG19,\n",
    "    \"inception\": InceptionV3,\n",
    "    \"xception\": Xception,  # TensorFlow ONLY\n",
    "    \"resnet\": ResNet50\n",
    "}\n",
    "\n",
    "model = 'inception'\n",
    "\n",
    "inputShape = (224, 224,3)\n",
    "preprocess = imagenet_utils.preprocess_input\n",
    "\n",
    "if model in (\"inception\", \"xception\"):\n",
    "    inputShape = (299, 299,3)\n",
    "    preprocess = preprocess_input\n",
    "    \n",
    "convNet = MODELS[model](weights='imagenet',\n",
    "                  include_top=True,\n",
    "                  input_shape=inputShape)\n"
   ]
  },
  {
   "cell_type": "code",
   "execution_count": null,
   "metadata": {},
   "outputs": [],
   "source": [
    "convNet.summary()"
   ]
  },
  {
   "cell_type": "code",
   "execution_count": null,
   "metadata": {},
   "outputs": [],
   "source": [
    "import matplotlib.pyplot as plt\n",
    "import cv2\n",
    "import numpy as np\n",
    "\n",
    "def showImage(image, isGray=False,figsize=(10, 10)):\n",
    "    fig = plt.figure(figsize=figsize)\n",
    "    plt.imshow(image, cmap = 'gray')\n",
    "    plt.show()"
   ]
  },
  {
   "cell_type": "code",
   "execution_count": null,
   "metadata": {},
   "outputs": [],
   "source": [
    "\n",
    "#im = cv2.imread('example_01.jpg')\n",
    "#im = cv2.resize(im,(224, 224),interpolation = cv2.INTER_AREA)\n",
    "#im = np.asarray([im[:,:,i] for i in [2,1,0]])\n",
    "#im = np.swapaxes(im,0,2)\n",
    "#im_list = [im]\n",
    "#im_list = np.asarray(im_list)\n",
    "#print(im_list.shape)\n",
    "\n",
    "\n",
    "im = load_img('example_01.jpg', target_size=inputShape)\n",
    "showImage(im)\n",
    "\n",
    "im = img_to_array(im)\n",
    "im = np.expand_dims(im, axis=0)\n",
    "\n",
    "# pre-process the image using the appropriate function based on the\n",
    "# model that has been loaded (i.e., mean subtraction, scaling, etc.)\n",
    "im = preprocess(im)\n"
   ]
  },
  {
   "cell_type": "code",
   "execution_count": null,
   "metadata": {},
   "outputs": [],
   "source": [
    "prediction = convNet.predict(im)\n",
    "\n",
    "P = imagenet_utils.decode_predictions(prediction)\n",
    "print(np.argmax(prediction,-1),P[0][0][1])\n"
   ]
  },
  {
   "cell_type": "markdown",
   "metadata": {},
   "source": [
    "# https://gist.github.com/yrevar/942d3a0ac09ec9e5eb3a\n",
    "\n",
    " 66: 'horned viper, cerastes, sand viper, horned asp, Cerastes cornutus',\n",
    " \n",
    " 67: 'diamondback, diamondback rattlesnake, Crotalus adamanteus',\n",
    " \n",
    " 68: 'sidewinder, horned rattlesnake, Crotalus cerastes',\n",
    " \n",
    " 69: 'trilobite',\n",
    " \n",
    " 70: 'harvestman, daddy longlegs, Phalangium opilio',\n",
    " \n",
    "*71: 'scorpion',\n",
    " \n",
    " 72: 'black and gold garden spider, Argiope aurantia',\n",
    " \n",
    " 73: 'barn spider, Araneus cavaticus',\n",
    " \n",
    " 74: 'garden spider, Aranea diademata',\n",
    " \n",
    " 75: 'black widow, Latrodectus mactans',"
   ]
  },
  {
   "cell_type": "code",
   "execution_count": null,
   "metadata": {},
   "outputs": [],
   "source": []
  }
 ],
 "metadata": {
  "kernelspec": {
   "display_name": "Python 3",
   "language": "python",
   "name": "python3"
  },
  "language_info": {
   "codemirror_mode": {
    "name": "ipython",
    "version": 3
   },
   "file_extension": ".py",
   "mimetype": "text/x-python",
   "name": "python",
   "nbconvert_exporter": "python",
   "pygments_lexer": "ipython3",
   "version": "3.6.10"
  }
 },
 "nbformat": 4,
 "nbformat_minor": 4
}
