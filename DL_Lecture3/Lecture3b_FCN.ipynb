{
 "cells": [
  {
   "cell_type": "code",
   "execution_count": 57,
   "metadata": {},
   "outputs": [
    {
     "data": {
      "text/plain": [
       "'2.3.1'"
      ]
     },
     "execution_count": 57,
     "metadata": {},
     "output_type": "execute_result"
    }
   ],
   "source": [
    "import keras\n",
    "from keras import layers\n",
    "from keras import models\n",
    "from keras.datasets import mnist\n",
    "from keras.utils import to_categorical\n",
    "import numpy as np\n",
    "from keras.callbacks import ModelCheckpoint\n",
    "from sklearn.metrics import classification_report, confusion_matrix\n",
    "\n",
    "keras.__version__"
   ]
  },
  {
   "cell_type": "code",
   "execution_count": 63,
   "metadata": {},
   "outputs": [],
   "source": [
    "model = models.Sequential()\n",
    "model.add(layers.Conv2D(32, (3, 3), activation='relu', padding = 'same',input_shape=(28, 28, 1)))\n",
    "model.add(layers.MaxPooling2D((2, 2)))\n",
    "model.add(layers.Conv2D(64, (3, 3), padding = 'same',activation='relu'))\n",
    "model.add(layers.MaxPooling2D((2, 2)))\n",
    "model.add(layers.Conv2D(64, (3, 3), padding = 'same',activation='relu'))\n",
    "\n",
    "# In the last but one convolutional layer I use filter size which reduces the output to (None,1,1,Num of filters) \n",
    "# See model summary to check that the filter size must be (7,7)\n",
    "model.add(layers.Conv2D(128, (7,7),activation='relu'))\n",
    "\n",
    "# in the last convolutional layer use the filter size (1,1) and the number of filters equal to the number of classes. Activation should be 'softmax'\n",
    "model.add(layers.Conv2D(10, (1,1),activation='softmax'))\n",
    "\n",
    "# The layer output shape is (None,1,1,10) so I flatten it to (None,10) - I reduce redundant internal dimensions \n",
    "model.add(layers.Flatten())"
   ]
  },
  {
   "cell_type": "code",
   "execution_count": 64,
   "metadata": {},
   "outputs": [
    {
     "name": "stdout",
     "output_type": "stream",
     "text": [
      "Model: \"sequential_11\"\n",
      "_________________________________________________________________\n",
      "Layer (type)                 Output Shape              Param #   \n",
      "=================================================================\n",
      "conv2d_45 (Conv2D)           (None, 28, 28, 32)        320       \n",
      "_________________________________________________________________\n",
      "max_pooling2d_21 (MaxPooling (None, 14, 14, 32)        0         \n",
      "_________________________________________________________________\n",
      "conv2d_46 (Conv2D)           (None, 14, 14, 64)        18496     \n",
      "_________________________________________________________________\n",
      "max_pooling2d_22 (MaxPooling (None, 7, 7, 64)          0         \n",
      "_________________________________________________________________\n",
      "conv2d_47 (Conv2D)           (None, 7, 7, 64)          36928     \n",
      "_________________________________________________________________\n",
      "conv2d_48 (Conv2D)           (None, 1, 1, 128)         401536    \n",
      "_________________________________________________________________\n",
      "conv2d_49 (Conv2D)           (None, 1, 1, 10)          1290      \n",
      "_________________________________________________________________\n",
      "flatten_6 (Flatten)          (None, 10)                0         \n",
      "=================================================================\n",
      "Total params: 458,570\n",
      "Trainable params: 458,570\n",
      "Non-trainable params: 0\n",
      "_________________________________________________________________\n"
     ]
    }
   ],
   "source": [
    "model.summary()\n",
    "\n",
    "# Check the shape of the last layer output - the train_labels must fit this shape exactly!"
   ]
  },
  {
   "cell_type": "code",
   "execution_count": 65,
   "metadata": {},
   "outputs": [],
   "source": [
    "\n",
    "(train_images, train_labels), (test_images, test_labels) = mnist.load_data()\n",
    "\n",
    "train_images = train_images.reshape((60000, 28, 28, 1))\n",
    "train_images = train_images.astype('float32') / 255\n",
    "\n",
    "test_images = test_images.reshape((10000, 28, 28, 1))\n",
    "test_images = test_images.astype('float32') / 255\n",
    "\n",
    "train_labels = to_categorical(train_labels)\n",
    "test_labels = to_categorical(test_labels)\n"
   ]
  },
  {
   "cell_type": "code",
   "execution_count": 66,
   "metadata": {},
   "outputs": [
    {
     "name": "stdout",
     "output_type": "stream",
     "text": [
      "Train on 48000 samples, validate on 12000 samples\n",
      "Epoch 1/5\n",
      "48000/48000 [==============================] - 41s 861us/step - loss: 0.1529 - accuracy: 0.9519 - val_loss: 0.0735 - val_accuracy: 0.9783\n",
      "\n",
      "Epoch 00001: val_loss improved from inf to 0.07347, saving model to model.h5\n",
      "Epoch 2/5\n",
      "48000/48000 [==============================] - 41s 862us/step - loss: 0.0449 - accuracy: 0.9858 - val_loss: 0.0509 - val_accuracy: 0.9853\n",
      "\n",
      "Epoch 00002: val_loss improved from 0.07347 to 0.05094, saving model to model.h5\n",
      "Epoch 3/5\n",
      "48000/48000 [==============================] - 42s 877us/step - loss: 0.0313 - accuracy: 0.9909 - val_loss: 0.0308 - val_accuracy: 0.9903\n",
      "\n",
      "Epoch 00003: val_loss improved from 0.05094 to 0.03079, saving model to model.h5\n",
      "Epoch 4/5\n",
      "48000/48000 [==============================] - 42s 871us/step - loss: 0.0217 - accuracy: 0.9936 - val_loss: 0.0337 - val_accuracy: 0.9903\n",
      "\n",
      "Epoch 00004: val_loss did not improve from 0.03079\n",
      "Epoch 5/5\n",
      "48000/48000 [==============================] - 42s 870us/step - loss: 0.0178 - accuracy: 0.9945 - val_loss: 0.0292 - val_accuracy: 0.9927\n",
      "\n",
      "Epoch 00005: val_loss improved from 0.03079 to 0.02921, saving model to model.h5\n"
     ]
    }
   ],
   "source": [
    "\n",
    "checkpoint = ModelCheckpoint(\n",
    "    'model.h5', \n",
    "    verbose=1, \n",
    "    monitor='val_loss', \n",
    "    save_best_only=True\n",
    ")\n",
    "\n",
    "model.compile(optimizer='rmsprop',\n",
    "              loss='categorical_crossentropy',\n",
    "              metrics=['accuracy'])\n",
    "\n",
    "history = model.fit(train_images, train_labels, epochs=5, batch_size=64, validation_split = 0.2,callbacks = [checkpoint])\n"
   ]
  },
  {
   "cell_type": "code",
   "execution_count": 67,
   "metadata": {},
   "outputs": [
    {
     "name": "stdout",
     "output_type": "stream",
     "text": [
      "10000/10000 [==============================] - 1s 96us/step\n",
      "0.02480221056835635 0.9923999905586243\n",
      "[[ 979    0    0    0    0    0    0    1    0    0]\n",
      " [   0 1132    1    0    0    0    2    0    0    0]\n",
      " [   1    0 1028    0    0    0    0    3    0    0]\n",
      " [   0    0    0 1006    0    3    0    0    1    0]\n",
      " [   0    0    0    0  972    0    1    1    1    7]\n",
      " [   1    0    0    4    0  886    1    0    0    0]\n",
      " [   5    2    0    0    1    4  944    0    2    0]\n",
      " [   0    1    8    0    0    0    0 1015    1    3]\n",
      " [   3    0    2    1    0    1    0    0  964    3]\n",
      " [   2    0    1    0    2    4    0    1    1  998]]\n",
      "              precision    recall  f1-score   support\n",
      "\n",
      "           0       0.99      1.00      0.99       980\n",
      "           1       1.00      1.00      1.00      1135\n",
      "           2       0.99      1.00      0.99      1032\n",
      "           3       1.00      1.00      1.00      1010\n",
      "           4       1.00      0.99      0.99       982\n",
      "           5       0.99      0.99      0.99       892\n",
      "           6       1.00      0.99      0.99       958\n",
      "           7       0.99      0.99      0.99      1028\n",
      "           8       0.99      0.99      0.99       974\n",
      "           9       0.99      0.99      0.99      1009\n",
      "\n",
      "    accuracy                           0.99     10000\n",
      "   macro avg       0.99      0.99      0.99     10000\n",
      "weighted avg       0.99      0.99      0.99     10000\n",
      "\n"
     ]
    }
   ],
   "source": [
    "test_loss, test_acc = model.evaluate(test_images, test_labels)\n",
    "print(test_loss,test_acc)\n",
    "\n",
    "predictions = np.argmax(model.predict(test_images),-1)\n",
    "true_labels = np.argmax(test_labels,-1)\n",
    "\n",
    "cm = confusion_matrix(true_labels, predictions)\n",
    "print(cm)\n",
    "print(classification_report(true_labels, predictions))\n"
   ]
  },
  {
   "cell_type": "code",
   "execution_count": null,
   "metadata": {},
   "outputs": [],
   "source": []
  }
 ],
 "metadata": {
  "kernelspec": {
   "display_name": "Python 3",
   "language": "python",
   "name": "python3"
  },
  "language_info": {
   "codemirror_mode": {
    "name": "ipython",
    "version": 3
   },
   "file_extension": ".py",
   "mimetype": "text/x-python",
   "name": "python",
   "nbconvert_exporter": "python",
   "pygments_lexer": "ipython3",
   "version": "3.6.10"
  }
 },
 "nbformat": 4,
 "nbformat_minor": 4
}
