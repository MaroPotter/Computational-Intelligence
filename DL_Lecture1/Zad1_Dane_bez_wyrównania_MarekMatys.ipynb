{
 "cells": [
  {
   "cell_type": "markdown",
   "metadata": {
    "colab_type": "text",
    "id": "FaNFXYvetmTc"
   },
   "source": [
    "The problem we are trying to solve here is to classify grayscale images of handwritten digits (28 pixels by 28 pixels), into their 10 \n",
    "categories (0 to 9). The dataset we will use is the MNIST dataset, a classic dataset in the machine learning community, which has been \n",
    "around for almost as long as the field itself and has been very intensively studied. It's a set of 60,000 training images, plus 10,000 test \n",
    "images, assembled by the National Institute of Standards and Technology (the NIST in MNIST) in the 1980s. You can think of \"solving\" MNIST \n",
    "as the \"Hello World\" of deep learning -- it's what you do to verify that your algorithms are working as expected. As you become a machine \n",
    "learning practitioner, you will see MNIST come up over and over again, in scientific papers, blog posts, and so on."
   ]
  },
  {
   "cell_type": "code",
   "execution_count": 0,
   "metadata": {
    "colab": {},
    "colab_type": "code",
    "id": "xpCGHhYWrLEi"
   },
   "outputs": [],
   "source": [
    "import cv2\n",
    "import numpy as np\n",
    "import matplotlib.pyplot as plt"
   ]
  },
  {
   "cell_type": "code",
   "execution_count": 0,
   "metadata": {
    "colab": {},
    "colab_type": "code",
    "id": "qN2OlmW3rUll"
   },
   "outputs": [],
   "source": [
    "## [deskew]\n",
    "SZ=28\n",
    "affine_flags = cv2.WARP_INVERSE_MAP|cv2.INTER_LINEAR\n",
    "\n",
    "def deskew(img):\n",
    "    m = cv2.moments(img)\n",
    "    if abs(m['mu02']) < 1e-2:\n",
    "        return img.copy()\n",
    "    skew = m['mu11']/m['mu02']\n",
    "    M = np.float32([[1, skew, -0.5*SZ*skew], [0, 1, 0]])\n",
    "    img = cv2.warpAffine(img,M,(SZ, SZ),flags=affine_flags)\n",
    "    return img\n",
    "## [deskew]\n"
   ]
  },
  {
   "cell_type": "code",
   "execution_count": 0,
   "metadata": {
    "colab": {},
    "colab_type": "code",
    "id": "UvIsa5nzrbzK"
   },
   "outputs": [],
   "source": [
    "def showOpencvImage(image, isGray=False):\n",
    "    fig = plt.figure(figsize=(6, 6))\n",
    "    plt.imshow(image, cmap = 'gray')\n",
    "    plt.show()"
   ]
  },
  {
   "cell_type": "code",
   "execution_count": 0,
   "metadata": {
    "colab": {},
    "colab_type": "code",
    "id": "kegBUVlCrepj"
   },
   "outputs": [],
   "source": [
    "def openCVHOG(im):\n",
    "    winSize = (20,20)\n",
    "    blockSize = (10,10)\n",
    "    blockStride = (5,5)\n",
    "    cellSize = (10,10)\n",
    "    nbins = 9\n",
    "    derivAperture = 1\n",
    "    winSigma = -1.\n",
    "    histogramNormType = 0\n",
    "    L2HysThreshold = 0.2\n",
    "    gammaCorrection = 1\n",
    "    nlevels = 64\n",
    "    signedGradients = True\n",
    "\n",
    "    hog = cv2.HOGDescriptor(winSize,blockSize,blockStride,cellSize,nbins,derivAperture,winSigma,histogramNormType,L2HysThreshold,gammaCorrection,nlevels, signedGradients)\n",
    "    descriptor = np.ravel(hog.compute(im))\n",
    "    \n",
    "    return descriptor"
   ]
  },
  {
   "cell_type": "markdown",
   "metadata": {
    "colab_type": "text",
    "id": "pdrhgmwhtuaa"
   },
   "source": [
    "The **MNIST dataset comes pre-loaded in Keras**, in the form of a set of four Numpy arrays:"
   ]
  },
  {
   "cell_type": "code",
   "execution_count": 0,
   "metadata": {
    "colab": {
     "base_uri": "https://localhost:8080/",
     "height": 80
    },
    "colab_type": "code",
    "id": "2xkMAbtsrhnc",
    "outputId": "aa00b57c-efd0-4b92-dba7-6f2b885e9395"
   },
   "outputs": [
    {
     "name": "stderr",
     "output_type": "stream",
     "text": [
      "Using TensorFlow backend.\n"
     ]
    },
    {
     "data": {
      "text/html": [
       "<p style=\"color: red;\">\n",
       "The default version of TensorFlow in Colab will switch to TensorFlow 2.x on the 27th of March, 2020.<br>\n",
       "We recommend you <a href=\"https://www.tensorflow.org/guide/migrate\" target=\"_blank\">upgrade</a> now\n",
       "or ensure your notebook will continue to use TensorFlow 1.x via the <code>%tensorflow_version 1.x</code> magic:\n",
       "<a href=\"https://colab.research.google.com/notebooks/tensorflow_version.ipynb\" target=\"_blank\">more info</a>.</p>\n"
      ],
      "text/plain": [
       "<IPython.core.display.HTML object>"
      ]
     },
     "metadata": {
      "tags": []
     },
     "output_type": "display_data"
    }
   ],
   "source": [
    "from keras.datasets import mnist\n",
    "\n",
    "(train_images, train_labels), (test_images, test_labels) = mnist.load_data()"
   ]
  },
  {
   "cell_type": "code",
   "execution_count": 0,
   "metadata": {
    "colab": {
     "base_uri": "https://localhost:8080/",
     "height": 782
    },
    "colab_type": "code",
    "id": "oNHSPTM3rnHx",
    "outputId": "e65b5b86-b2ec-4906-805e-b25406e7835a"
   },
   "outputs": [
    {
     "name": "stdout",
     "output_type": "stream",
     "text": [
      "70000\n"
     ]
    },
    {
     "data": {
      "image/png": "[encoded data removed]",
      "text/plain": [
       "<Figure size 432x432 with 1 Axes>"
      ]
     },
     "metadata": {
      "tags": []
     },
     "output_type": "display_data"
    },
    {
     "name": "stdout",
     "output_type": "stream",
     "text": [
      "0\n"
     ]
    },
    {
     "data": {
      "image/png": "[encoded data removed]",
      "text/plain": [
       "<Figure size 432x432 with 1 Axes>"
      ]
     },
     "metadata": {
      "tags": []
     },
     "output_type": "display_data"
    },
    {
     "name": "stdout",
     "output_type": "stream",
     "text": [
      "0\n"
     ]
    }
   ],
   "source": [
    "im_list = [train_images[i] for i in range(0,train_images.shape[0])] + [test_images[i] for i in range(0,test_images.shape[0])]\n",
    "print(len(im_list))\n",
    "\n",
    "train_deskewed = [deskew(im) for im in im_list[0:train_images.shape[0]]]\n",
    "test_deskewed = [deskew(im) for im in im_list[train_images.shape[0]:]]\n",
    "\n",
    "train_deskewed = np.asarray(train_deskewed)\n",
    "test_deskewed = np.asarray(test_deskewed)\n",
    "\n",
    "showOpencvImage(train_images[1])\n",
    "print(train_labels[1])\n",
    "\n",
    "showOpencvImage(train_deskewed[1])\n",
    "print(train_labels[1])\n",
    "\n"
   ]
  },
  {
   "cell_type": "code",
   "execution_count": 0,
   "metadata": {
    "colab": {
     "base_uri": "https://localhost:8080/",
     "height": 272
    },
    "colab_type": "code",
    "id": "tbM91U4_rrHC",
    "outputId": "567ddd2a-8af8-48c1-bd38-9b6b8b1bb624"
   },
   "outputs": [
    {
     "name": "stdout",
     "output_type": "stream",
     "text": [
      "\n",
      " NORMAL:\n",
      "70000\n",
      "(81,)\n",
      "(70000, 81)\n",
      "\n",
      " DESKEWED TRAIN:\n",
      "60000\n",
      "(81,)\n",
      "(60000, 81)\n",
      "\n",
      " DESKEWED TEST:\n",
      "10000\n",
      "(81,)\n",
      "(10000, 81)\n"
     ]
    }
   ],
   "source": [
    "# normal\n",
    "print(\"\\n NORMAL:\")\n",
    "hogdata = [openCVHOG(im) for im in im_list]\n",
    "print(len(hogdata))\n",
    "print(hogdata[0].shape)\n",
    "imData = np.float32(hogdata).reshape(-1,81)\n",
    "print(imData.shape)\n",
    "\n",
    "#deskewed\n",
    "print(\"\\n DESKEWED TRAIN:\")\n",
    "hogdata_train_deskewed = [openCVHOG(im) for im in train_deskewed]\n",
    "print(len(hogdata_train_deskewed))\n",
    "print(hogdata_train_deskewed[0].shape)\n",
    "imData_train_deskewed = np.float32(hogdata_train_deskewed).reshape(-1,81)\n",
    "print(imData_train_deskewed.shape)\n",
    "\n",
    "print(\"\\n DESKEWED TEST:\")\n",
    "hogdata_test_deskewed = [openCVHOG(im) for im in test_deskewed]\n",
    "print(len(hogdata_test_deskewed))\n",
    "print(hogdata_test_deskewed[0].shape)\n",
    "imData_test_deskewed = np.float32(hogdata_test_deskewed).reshape(-1,81)\n",
    "print(imData_test_deskewed.shape)"
   ]
  },
  {
   "cell_type": "code",
   "execution_count": 0,
   "metadata": {
    "colab": {},
    "colab_type": "code",
    "id": "NbQHTEikr1J_"
   },
   "outputs": [],
   "source": [
    "from sklearn import svm\n",
    "\n",
    "\n",
    "model = svm.SVC(C=15.5,gamma=0.7)\n",
    "model = model.fit(imData[0:600,:],train_labels[0:600])\n",
    "\n",
    "pred_labels = model.predict(imData[600:1000,:])\n",
    "\n",
    "#deskewed\n",
    "model_deskewed = svm.SVC(C=15.5,gamma=0.7)\n",
    "model_deskewed = model_deskewed.fit(imData_train_deskewed[0:600,:],train_labels[0:600])\n",
    "\n",
    "pred_labels_deskewed = model.predict(imData_train_deskewed[600:1000,:])\n"
   ]
  },
  {
   "cell_type": "code",
   "execution_count": 0,
   "metadata": {
    "colab": {
     "base_uri": "https://localhost:8080/",
     "height": 1000
    },
    "colab_type": "code",
    "id": "ZzNeCt9Fr48O",
    "outputId": "0a41428f-dad6-47c5-c9e3-fdd2ad113909"
   },
   "outputs": [
    {
     "name": "stdout",
     "output_type": "stream",
     "text": [
      "\n",
      " NORMAL:\n",
      "91.0\n",
      "[[38  0  0  0  0  0  1  0  0  0]\n",
      " [ 0 37  0  0  0  0  0  0  0  0]\n",
      " [ 0  0 32  0  0  0  0  2  0  1]\n",
      " [ 0  0  1 32  0  0  0  0  0  1]\n",
      " [ 0  0  0  0 38  2  4  0  0  2]\n",
      " [ 0  0  2  1  0 36  0  0  1  1]\n",
      " [ 1  1  0  0  1  0 36  0  1  0]\n",
      " [ 0  0  1  2  1  0  0 51  0  0]\n",
      " [ 0  1  0  0  0  2  0  0 34  1]\n",
      " [ 3  0  0  0  0  0  1  1  0 30]]\n",
      "              precision    recall  f1-score   support\n",
      "\n",
      "           0       0.90      0.97      0.94        39\n",
      "           1       0.95      1.00      0.97        37\n",
      "           2       0.89      0.91      0.90        35\n",
      "           3       0.91      0.94      0.93        34\n",
      "           4       0.95      0.83      0.88        46\n",
      "           5       0.90      0.88      0.89        41\n",
      "           6       0.86      0.90      0.88        40\n",
      "           7       0.94      0.93      0.94        55\n",
      "           8       0.94      0.89      0.92        38\n",
      "           9       0.83      0.86      0.85        35\n",
      "\n",
      "    accuracy                           0.91       400\n",
      "   macro avg       0.91      0.91      0.91       400\n",
      "weighted avg       0.91      0.91      0.91       400\n",
      "\n",
      "\n",
      " DESKEWED:\n",
      "92.0\n",
      "[[39  0  0  0  0  0  0  0  0  0]\n",
      " [ 0 37  0  0  0  0  0  0  0  0]\n",
      " [ 0  0 33  0  0  0  0  2  0  0]\n",
      " [ 0  0  1 33  0  0  0  0  0  0]\n",
      " [ 1  0  0  0 39  1  3  0  0  2]\n",
      " [ 0  0  0  1  0 37  0  0  1  2]\n",
      " [ 1  1  1  0  0  0 37  0  0  0]\n",
      " [ 0  0  1  3  1  0  0 50  0  0]\n",
      " [ 1  1  0  0  0  0  0  0 34  2]\n",
      " [ 4  0  0  0  0  0  0  2  0 29]]\n",
      "              precision    recall  f1-score   support\n",
      "\n",
      "           0       0.85      1.00      0.92        39\n",
      "           1       0.95      1.00      0.97        37\n",
      "           2       0.92      0.94      0.93        35\n",
      "           3       0.89      0.97      0.93        34\n",
      "           4       0.97      0.85      0.91        46\n",
      "           5       0.97      0.90      0.94        41\n",
      "           6       0.93      0.93      0.93        40\n",
      "           7       0.93      0.91      0.92        55\n",
      "           8       0.97      0.89      0.93        38\n",
      "           9       0.83      0.83      0.83        35\n",
      "\n",
      "    accuracy                           0.92       400\n",
      "   macro avg       0.92      0.92      0.92       400\n",
      "weighted avg       0.92      0.92      0.92       400\n",
      "\n"
     ]
    }
   ],
   "source": [
    "from sklearn.metrics import classification_report, confusion_matrix\n",
    "\n",
    "print(\"\\n NORMAL:\")\n",
    "mask = pred_labels==train_labels[600:1000]\n",
    "correct = np.count_nonzero(mask)\n",
    "print(correct*100.0/pred_labels.size)\n",
    "\n",
    "cm = confusion_matrix(train_labels[600:1000], pred_labels)\n",
    "print(cm)\n",
    "print(classification_report(train_labels[600:1000], pred_labels))\n",
    "\n",
    "\n",
    "# deskewed\n",
    "print(\"\\n DESKEWED:\")\n",
    "mask_deskewed = pred_labels_deskewed ==train_labels[600:1000]\n",
    "correct_deskewed = np.count_nonzero(mask_deskewed)\n",
    "print(correct_deskewed*100.0/pred_labels_deskewed.size)\n",
    "\n",
    "cm = confusion_matrix(train_labels[600:1000], pred_labels_deskewed)\n",
    "print(cm)\n",
    "print(classification_report(train_labels[600:1000], pred_labels_deskewed))"
   ]
  },
  {
   "cell_type": "markdown",
   "metadata": {
    "colab_type": "text",
    "id": "XS4Z3LwUsAMa"
   },
   "source": [
    "\n",
    "*   **PRECISION** = TP / (TP+FP)\n",
    "*   **RECALL** = TP + (TP+FN)\n",
    "*   **F1 score** = 2*PRECISION*RECALL/(PRECISION+RECALL)\n",
    "*   **ACCURACY** = SUM_OF_DIAGNONAL ELEMENTS/SUM OF ALL ELEMENTS\n",
    "*   **Macro_AVG OF PRECISION** = SUM OF PRECISIONS/NUMBER OF CLASSES\n",
    "*   **Weighted AVG OF PRECISION** = SUM OVER CLASSES PRECISION(CLASS)*WEIGHT*   (CLASS),\n",
    "**WEIGHT** = CLASS SUPPORT/ALL ELEMENTS\n",
    "*   **MICRO AVG OF PRECISION** = SUM (TP(CLASS))/SUM(TP(CLASS)+FP(CLASS))\n",
    "   \n",
    "\n"
   ]
  },
  {
   "cell_type": "code",
   "execution_count": 0,
   "metadata": {
    "colab": {
     "base_uri": "https://localhost:8080/",
     "height": 1000
    },
    "colab_type": "code",
    "id": "CB0MMMKGr82u",
    "outputId": "93f7ddcc-c695-4698-a96e-075537cad77e"
   },
   "outputs": [
    {
     "name": "stdout",
     "output_type": "stream",
     "text": [
      "\n",
      " NORMAL:\n",
      "83.5\n",
      "[[28  4  1  0  0  0  6  0  0  0]\n",
      " [ 0 36  0  0  0  1  0  0  0  0]\n",
      " [ 0  0 31  0  0  1  0  1  1  1]\n",
      " [ 0  0  3 29  0  2  0  0  0  0]\n",
      " [ 0  0  0  0 43  0  2  0  0  1]\n",
      " [ 0  0  0  2  3 31  0  0  1  4]\n",
      " [ 1  0  0  0  2  1 35  0  1  0]\n",
      " [ 0  0  5  2  1  0  0 47  0  0]\n",
      " [ 1  4  0  0  2  4  0  0 27  0]\n",
      " [ 1  0  2  0  0  1  1  2  1 27]]\n",
      "              precision    recall  f1-score   support\n",
      "\n",
      "           0       0.90      0.72      0.80        39\n",
      "           1       0.82      0.97      0.89        37\n",
      "           2       0.74      0.89      0.81        35\n",
      "           3       0.88      0.85      0.87        34\n",
      "           4       0.84      0.93      0.89        46\n",
      "           5       0.76      0.76      0.76        41\n",
      "           6       0.80      0.88      0.83        40\n",
      "           7       0.94      0.85      0.90        55\n",
      "           8       0.87      0.71      0.78        38\n",
      "           9       0.82      0.77      0.79        35\n",
      "\n",
      "    accuracy                           0.83       400\n",
      "   macro avg       0.84      0.83      0.83       400\n",
      "weighted avg       0.84      0.83      0.83       400\n",
      "\n",
      "\n",
      " DESKEWED:\n",
      "90.0\n",
      "[[38  0  0  0  0  0  0  1  0  0]\n",
      " [ 0 36  0  0  1  0  0  0  0  0]\n",
      " [ 0  0 30  1  1  1  0  0  0  2]\n",
      " [ 0  0  2 32  0  0  0  0  0  0]\n",
      " [ 0  0  1  0 43  1  1  0  0  0]\n",
      " [ 0  0  0  1  1 35  0  1  2  1]\n",
      " [ 1  2  0  0  3  1 33  0  0  0]\n",
      " [ 0  0  1  1  1  0  0 52  0  0]\n",
      " [ 3  0  0  0  0  0  0  0 34  1]\n",
      " [ 5  0  0  0  0  1  0  1  1 27]]\n",
      "              precision    recall  f1-score   support\n",
      "\n",
      "           0       0.81      0.97      0.88        39\n",
      "           1       0.95      0.97      0.96        37\n",
      "           2       0.88      0.86      0.87        35\n",
      "           3       0.91      0.94      0.93        34\n",
      "           4       0.86      0.93      0.90        46\n",
      "           5       0.90      0.85      0.88        41\n",
      "           6       0.97      0.82      0.89        40\n",
      "           7       0.95      0.95      0.95        55\n",
      "           8       0.92      0.89      0.91        38\n",
      "           9       0.87      0.77      0.82        35\n",
      "\n",
      "    accuracy                           0.90       400\n",
      "   macro avg       0.90      0.90      0.90       400\n",
      "weighted avg       0.90      0.90      0.90       400\n",
      "\n"
     ]
    }
   ],
   "source": [
    "from sklearn.ensemble import RandomForestClassifier\n",
    "\n",
    "print(\"\\n NORMAL:\")\n",
    "rfc =  RandomForestClassifier(max_depth=15, n_estimators=100, max_features=60)\n",
    "rfc = rfc.fit(imData[0:600,:],train_labels[0:600])\n",
    "\n",
    "pred_labels = rfc.predict(imData[600:1000,:])\n",
    "\n",
    "mask = pred_labels==train_labels[600:1000]\n",
    "correct = np.count_nonzero(mask)\n",
    "print(correct*100.0/pred_labels.size)\n",
    "\n",
    "cm = confusion_matrix(train_labels[600:1000], pred_labels)\n",
    "print(cm)\n",
    "print(classification_report(train_labels[600:1000], pred_labels))\n",
    "\n",
    "\n",
    "#deskewed\n",
    "print(\"\\n DESKEWED:\")\n",
    "rfc_deskewed = RandomForestClassifier(max_depth=15, n_estimators=100, max_features=60)\n",
    "rfc_deskewed = rfc_deskewed.fit(imData_train_deskewed[0:600,:],train_labels[0:600])\n",
    "\n",
    "pred_labels_deskewed = rfc_deskewed.predict(imData_train_deskewed[600:1000,:])\n",
    "\n",
    "mask_deskewed = pred_labels_deskewed==train_labels[600:1000]\n",
    "correct_deskewed = np.count_nonzero(mask_deskewed)\n",
    "print(correct_deskewed*100.0/pred_labels_deskewed.size)\n",
    "\n",
    "cm = confusion_matrix(train_labels[600:1000], pred_labels_deskewed)\n",
    "print(cm)\n",
    "print(classification_report(train_labels[600:1000], pred_labels_deskewed))"
   ]
  }
 ],
 "metadata": {
  "colab": {
   "collapsed_sections": [],
   "name": "Zadanie1_Dane_bez_wyrównania_DawidGodek_DominikKołodziej.ipynb",
   "provenance": []
  },
  "kernelspec": {
   "display_name": "Python 3",
   "language": "python",
   "name": "python3"
  },
  "language_info": {
   "codemirror_mode": {
    "name": "ipython",
    "version": 3
   },
   "file_extension": ".py",
   "mimetype": "text/x-python",
   "name": "python",
   "nbconvert_exporter": "python",
   "pygments_lexer": "ipython3",
   "version": "3.7.4"
  }
 },
 "nbformat": 4,
 "nbformat_minor": 1
}
