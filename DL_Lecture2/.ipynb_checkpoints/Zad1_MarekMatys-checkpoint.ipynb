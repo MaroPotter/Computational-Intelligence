{
 "cells": [
  {
   "cell_type": "code",
   "execution_count": 0,
   "metadata": {
    "colab": {
     "base_uri": "https://localhost:8080/",
     "height": 34
    },
    "colab_type": "code",
    "id": "xPp3Npx_Gsnq",
    "outputId": "50398b17-2a3f-4ae8-ab13-14b69b725b50"
   },
   "outputs": [
    {
     "data": {
      "text/plain": [
       "'2.3.1'"
      ]
     },
     "execution_count": 16,
     "metadata": {
      "tags": []
     },
     "output_type": "execute_result"
    }
   ],
   "source": [
    "import keras\n",
    "keras.__version__"
   ]
  },
  {
   "cell_type": "markdown",
   "metadata": {
    "colab_type": "text",
    "id": "9B1NVcGgGsnu"
   },
   "source": [
    "# Classifying newswires: a multi-class classification example\n",
    "\n",
    "This notebook contains the code samples found in Chapter 3, Section 5 of [Deep Learning with Python](https://www.manning.com/books/deep-learning-with-python?a_aid=keras&a_bid=76564dff). Note that the original text features far more content, in particular further explanations and figures: in this notebook, you will only find source code and related comments.\n",
    "\n",
    "----\n",
    "\n",
    "In the previous section we saw how to classify vector inputs into two mutually exclusive classes using a densely-connected neural network. \n",
    "But what happens when you have more than two classes? \n",
    "\n",
    "In this section, we will build a network to classify Reuters newswires into 46 different mutually-exclusive topics. Since we have many \n",
    "classes, this problem is an instance of \"multi-class classification\", and since each data point should be classified into only one \n",
    "category, the problem is more specifically an instance of \"single-label, multi-class classification\". If each data point could have \n",
    "belonged to multiple categories (in our case, topics) then we would be facing a \"multi-label, multi-class classification\" problem."
   ]
  },
  {
   "cell_type": "markdown",
   "metadata": {
    "colab_type": "text",
    "id": "r_BxBw30Gsnv"
   },
   "source": [
    "## The Reuters dataset\n",
    "\n",
    "\n",
    "We will be working with the _Reuters dataset_, a set of short newswires and their topics, published by Reuters in 1986. It's a very simple, \n",
    "widely used toy dataset for text classification. There are 46 different topics; some topics are more represented than others, but each \n",
    "topic has at least 10 examples in the training set.\n",
    "\n",
    "Like IMDB and MNIST, the Reuters dataset comes packaged as part of Keras. Let's take a look right away:"
   ]
  },
  {
   "cell_type": "code",
   "execution_count": 0,
   "metadata": {
    "colab": {},
    "colab_type": "code",
    "id": "OXRRZP7YGsnv"
   },
   "outputs": [],
   "source": [
    "from keras.datasets import reuters\n",
    "\n",
    "(train_data, train_labels), (test_data, test_labels) = reuters.load_data(num_words=10000)"
   ]
  },
  {
   "cell_type": "markdown",
   "metadata": {
    "colab_type": "text",
    "id": "ID983tScGsnz"
   },
   "source": [
    "\n",
    "Like with the IMDB dataset, the argument `num_words=10000` restricts the data to the 10,000 most frequently occurring words found in the \n",
    "data.\n",
    "\n",
    "We have 8,982 training examples and 2,246 test examples:"
   ]
  },
  {
   "cell_type": "code",
   "execution_count": 0,
   "metadata": {
    "colab": {
     "base_uri": "https://localhost:8080/",
     "height": 34
    },
    "colab_type": "code",
    "id": "TVgXbpJSGsn0",
    "outputId": "5d2eb112-c490-4228-e2dc-7b7dbf30a3cd"
   },
   "outputs": [
    {
     "data": {
      "text/plain": [
       "8982"
      ]
     },
     "execution_count": 18,
     "metadata": {
      "tags": []
     },
     "output_type": "execute_result"
    }
   ],
   "source": [
    "len(train_data)"
   ]
  },
  {
   "cell_type": "code",
   "execution_count": 0,
   "metadata": {
    "colab": {
     "base_uri": "https://localhost:8080/",
     "height": 34
    },
    "colab_type": "code",
    "id": "rs9Ib7igGsn5",
    "outputId": "2d10cf4b-444e-4d49-c648-936ba5a10745"
   },
   "outputs": [
    {
     "data": {
      "text/plain": [
       "2246"
      ]
     },
     "execution_count": 19,
     "metadata": {
      "tags": []
     },
     "output_type": "execute_result"
    }
   ],
   "source": [
    "len(test_data)"
   ]
  },
  {
   "cell_type": "markdown",
   "metadata": {
    "colab_type": "text",
    "id": "epyllaGxGsn9"
   },
   "source": [
    "As with the IMDB reviews, each example is a list of integers (word indices):"
   ]
  },
  {
   "cell_type": "code",
   "execution_count": 0,
   "metadata": {
    "colab": {
     "base_uri": "https://localhost:8080/",
     "height": 544
    },
    "colab_type": "code",
    "id": "pzJeWF7IGsn9",
    "outputId": "0a0855d2-0102-4707-e2a3-84fbd511b846"
   },
   "outputs": [
    {
     "data": {
      "text/plain": [
       "[1,\n",
       " 245,\n",
       " 273,\n",
       " 207,\n",
       " 156,\n",
       " 53,\n",
       " 74,\n",
       " 160,\n",
       " 26,\n",
       " 14,\n",
       " 46,\n",
       " 296,\n",
       " 26,\n",
       " 39,\n",
       " 74,\n",
       " 2979,\n",
       " 3554,\n",
       " 14,\n",
       " 46,\n",
       " 4689,\n",
       " 4329,\n",
       " 86,\n",
       " 61,\n",
       " 3499,\n",
       " 4795,\n",
       " 14,\n",
       " 61,\n",
       " 451,\n",
       " 4329,\n",
       " 17,\n",
       " 12]"
      ]
     },
     "execution_count": 20,
     "metadata": {
      "tags": []
     },
     "output_type": "execute_result"
    }
   ],
   "source": [
    "train_data[10]"
   ]
  },
  {
   "cell_type": "markdown",
   "metadata": {
    "colab_type": "text",
    "id": "tqWHoQuMGsoB"
   },
   "source": [
    "Here's how you can decode it back to words, in case you are curious:"
   ]
  },
  {
   "cell_type": "code",
   "execution_count": 0,
   "metadata": {
    "colab": {},
    "colab_type": "code",
    "id": "9LVwO7EJGsoC"
   },
   "outputs": [],
   "source": [
    "word_index = reuters.get_word_index()\n",
    "reverse_word_index = dict([(value, key) for (key, value) in word_index.items()])\n",
    "# Note that our indices were offset by 3\n",
    "# because 0, 1 and 2 are reserved indices for \"padding\", \"start of sequence\", and \"unknown\".\n",
    "decoded_newswire = ' '.join([reverse_word_index.get(i - 3, '?') for i in train_data[0]])"
   ]
  },
  {
   "cell_type": "code",
   "execution_count": 0,
   "metadata": {
    "colab": {
     "base_uri": "https://localhost:8080/",
     "height": 54
    },
    "colab_type": "code",
    "id": "8b9SzsPHGsoH",
    "outputId": "ecfc870b-723a-429b-cd06-9c720c200faa"
   },
   "outputs": [
    {
     "data": {
      "text/plain": [
       "'? ? ? said as a result of its december acquisition of space co it expects earnings per share in 1987 of 1 15 to 1 30 dlrs per share up from 70 cts in 1986 the company said pretax net should rise to nine to 10 mln dlrs from six mln dlrs in 1986 and rental operation revenues to 19 to 22 mln dlrs from 12 5 mln dlrs it said cash flow per share this year should be 2 50 to three dlrs reuter 3'"
      ]
     },
     "execution_count": 22,
     "metadata": {
      "tags": []
     },
     "output_type": "execute_result"
    }
   ],
   "source": [
    "decoded_newswire"
   ]
  },
  {
   "cell_type": "markdown",
   "metadata": {
    "colab_type": "text",
    "id": "WiMFkehoGsoM"
   },
   "source": [
    "The label associated with an example is an integer between 0 and 45: a topic index."
   ]
  },
  {
   "cell_type": "code",
   "execution_count": 0,
   "metadata": {
    "colab": {
     "base_uri": "https://localhost:8080/",
     "height": 34
    },
    "colab_type": "code",
    "id": "DY_YLQ_9GsoN",
    "outputId": "52a7dffa-cecf-45c7-9316-110f3b32d090"
   },
   "outputs": [
    {
     "data": {
      "text/plain": [
       "3"
      ]
     },
     "execution_count": 23,
     "metadata": {
      "tags": []
     },
     "output_type": "execute_result"
    }
   ],
   "source": [
    "train_labels[10]"
   ]
  },
  {
   "cell_type": "markdown",
   "metadata": {
    "colab_type": "text",
    "id": "0wgH2f_YGsoQ"
   },
   "source": [
    "## Preparing the data\n",
    "\n",
    "We can vectorize the data with the exact same code as in our previous example:"
   ]
  },
  {
   "cell_type": "code",
   "execution_count": 0,
   "metadata": {
    "colab": {},
    "colab_type": "code",
    "id": "peAnMFfWGsoR"
   },
   "outputs": [],
   "source": [
    "import numpy as np\n",
    "\n",
    "def vectorize_sequences(sequences, dimension=10000):\n",
    "    results = np.zeros((len(sequences), dimension))\n",
    "    for i, sequence in enumerate(sequences):\n",
    "        results[i, sequence] = 1.\n",
    "    return results\n",
    "\n",
    "# Our vectorized training data\n",
    "x_train = vectorize_sequences(train_data)\n",
    "# Our vectorized test data\n",
    "x_test = vectorize_sequences(test_data)"
   ]
  },
  {
   "cell_type": "markdown",
   "metadata": {
    "colab_type": "text",
    "id": "xnCPYOcRGsoU"
   },
   "source": [
    "\n",
    "To vectorize the labels, there are two possibilities: we could just cast the label list as an integer tensor, or we could use a \"one-hot\" \n",
    "encoding. One-hot encoding is a widely used format for categorical data, also called \"categorical encoding\". \n",
    "For a more detailed explanation of one-hot encoding, you can refer to Chapter 6, Section 1. \n",
    "In our case, one-hot encoding of our labels consists in embedding each label as an all-zero vector with a 1 in the place of the label index, e.g.:"
   ]
  },
  {
   "cell_type": "code",
   "execution_count": 0,
   "metadata": {
    "colab": {
     "base_uri": "https://localhost:8080/",
     "height": 68
    },
    "colab_type": "code",
    "id": "5e6qNKncGsoV",
    "outputId": "5f266e44-e736-4fcd-bcc0-4ba4c1ed6c26"
   },
   "outputs": [
    {
     "name": "stdout",
     "output_type": "stream",
     "text": [
      "(8982, 46)\n",
      "[0 0 0 1 0 0 0 0 0 0 0 0 0 0 0 0 0 0 0 0 0 0 0 0 0 0 0 0 0 0 0 0 0 0 0 0 0\n",
      " 0 0 0 0 0 0 0 0 0]\n"
     ]
    }
   ],
   "source": [
    "def to_one_hot1(labels, dimension=46):\n",
    "    results = np.zeros((len(labels), dimension))\n",
    "    for i, label in enumerate(labels):\n",
    "        results[i, label] = 1.\n",
    "    return results\n",
    "\n",
    "def to_one_hot(labels, dimension=46):\n",
    "    results = []\n",
    "    \n",
    "    for label in labels:\n",
    "        results.append(np.asarray([label==i for i in range(0,dimension)],dtype=np.uint8))\n",
    "        \n",
    "    return np.asarray(results)\n",
    "    \n",
    "# Our vectorized training labels\n",
    "one_hot_train_labels = to_one_hot(train_labels)\n",
    "# Our vectorized test labels\n",
    "one_hot_test_labels = to_one_hot(test_labels)\n",
    "\n",
    "print(one_hot_train_labels.shape)"
   ]
  },
  {
   "cell_type": "code",
   "execution_count": 0,
   "metadata": {
    "colab": {
     "base_uri": "https://localhost:8080/",
     "height": 51
    },
    "colab_type": "code",
    "id": "BA80u_h9Gsoa",
    "outputId": "e0efcf6e-c575-4be0-8568-e650375ac3a7"
   },
   "outputs": [
    {
     "name": "stdout",
     "output_type": "stream",
     "text": [
      "[0 0 0 0 0 0 0 0 0 0 0 0 0 0 0 0 0 0 0 0 0 0 0 0 0 0 0 0 0 0 0 0 0 0 1 0 0\n",
      " 0 0 0 0 0 0 0 0 0]\n"
     ]
    }
   ],
   "source": [
    "dimension = 46\n",
    "label = 34\n",
    "res = np.asarray([label==i for i in range(0,dimension)],dtype=np.uint8)\n",
    "print(res)"
   ]
  },
  {
   "cell_type": "markdown",
   "metadata": {
    "colab_type": "text",
    "id": "lKnXjy32Gsod"
   },
   "source": [
    "Note that there is a built-in way to do this in Keras, which you have already seen in action in our MNIST example:"
   ]
  },
  {
   "cell_type": "code",
   "execution_count": 0,
   "metadata": {
    "colab": {},
    "colab_type": "code",
    "id": "3vKvK8hYGsoe"
   },
   "outputs": [],
   "source": [
    "from keras.utils.np_utils import to_categorical\n",
    "\n",
    "one_hot_train_labels = to_categorical(train_labels)\n",
    "one_hot_test_labels = to_categorical(test_labels)"
   ]
  },
  {
   "cell_type": "markdown",
   "metadata": {
    "colab_type": "text",
    "id": "Zn7rPtHoGsoh"
   },
   "source": [
    "## Class weights\n",
    "\n",
    "Before we continue, let us calculate the weights for the classess. Fit method for a network model accepts an optional argument class_weight which must be a disctionary. All classess present in the training set must have associated items in the dictionary.\n",
    "\n",
    "## Use Keras home page!!!"
   ]
  },
  {
   "cell_type": "code",
   "execution_count": 0,
   "metadata": {
    "colab": {
     "base_uri": "https://localhost:8080/",
     "height": 343
    },
    "colab_type": "code",
    "id": "nDZAa-uRGsoi",
    "outputId": "e8e69628-7d9e-4f11-a6d6-c8993448a68a"
   },
   "outputs": [
    {
     "name": "stdout",
     "output_type": "stream",
     "text": [
      "(2, 46)\n",
      "[[   0    1    2    3    4    5    6    7    8    9   10   11   12   13\n",
      "    14   15   16   17   18   19   20   21   22   23   24   25   26   27\n",
      "    28   29   30   31   32   33   34   35   36   37   38   39   40   41\n",
      "    42   43   44   45]\n",
      " [  55  432   74 3159 1949   17   48   16  139  101  124  390   49  172\n",
      "    26   20  444   39   66  549  269  100   15   41   62   92   24   15\n",
      "    48   19   45   39   32   11   50   10   49   19   19   24   36   30\n",
      "    13   21   12   18]]\n",
      "[0.01245548 0.00158577 0.00925745 0.00021686 0.00035149 0.04029715\n",
      " 0.01427191 0.04281572 0.00492843 0.00678269 0.00552461 0.00175654\n",
      " 0.01398064 0.00398286 0.02634814 0.03425258 0.00154291 0.01756542\n",
      " 0.01037957 0.00124782 0.00254666 0.00685052 0.0456701  0.01670857\n",
      " 0.01104922 0.00744621 0.02854382 0.0456701  0.01427191 0.03605535\n",
      " 0.01522337 0.01756542 0.02140786 0.06227742 0.01370103 0.06850516\n",
      " 0.01398064 0.03605535 0.03605535 0.02854382 0.01902921 0.02283505\n",
      " 0.05269627 0.0326215  0.05708763 0.03805842]\n",
      "{0: 0.012455483067718345, 1: 0.0015857675201956226, 2: 0.009257453631412284, 3: 0.00021685709677888857, 4: 0.0003514887474215028, 5: 0.040297151101441706, 6: 0.014271907681760603, 7: 0.04281572304528181, 8: 0.004928428551974885, 9: 0.0067826887992525646, 10: 0.005524609425197653, 11: 0.0017565424839089973, 12: 0.013980644259683856, 13: 0.0039828579577006334, 14: 0.02634813725863496, 15: 0.03425257843622545, 16: 0.001542908938568714, 17: 0.017565424839089974, 18: 0.010379569223098621, 19: 0.0012478170650719654, 20: 0.002546660106782561, 21: 0.00685051568724509, 22: 0.04567010458163393, 23: 0.016708574846939245, 24: 0.011049218850395306, 25: 0.007446212703527272, 26: 0.028543815363521206, 27: 0.04567010458163393, 28: 0.014271907681760603, 29: 0.03605534572234258, 30: 0.015223368193877979, 31: 0.017565424839089974, 32: 0.021407861522640906, 33: 0.06227741533859173, 34: 0.01370103137449018, 35: 0.0685051568724509, 36: 0.013980644259683856, 37: 0.03605534572234258, 38: 0.03605534572234258, 39: 0.028543815363521206, 40: 0.01902921024234747, 41: 0.022835052290816966, 42: 0.05269627451726992, 43: 0.032621503272595664, 44: 0.05708763072704241, 45: 0.03805842048469494}\n"
     ]
    }
   ],
   "source": [
    "import numpy as np\n",
    "\n",
    "counts = np.unique(train_labels,return_counts=True)\n",
    "\n",
    "counts = np.asarray(counts)\n",
    "print(counts.shape)\n",
    "\n",
    "print(counts)\n",
    "\n",
    "weights = np.ones(counts.shape[1],dtype=np.float32)\n",
    "\n",
    "weights = 1/counts[1,:]\n",
    "\n",
    "w = np.sum(weights)\n",
    "\n",
    "weights = weights/w\n",
    "\n",
    "print(weights)\n",
    "\n",
    "weightsDict = dict(zip(np.asarray(counts[0,:]),weights))\n",
    "print(weightsDict)\n"
   ]
  },
  {
   "cell_type": "markdown",
   "metadata": {
    "colab_type": "text",
    "id": "DGCcIqI0Gsok"
   },
   "source": [
    "## Building our network\n",
    "\n",
    "\n",
    "This topic classification problem looks very similar to our previous movie review classification problem: in both cases, we are trying to \n",
    "classify short snippets of text. There is however a new constraint here: the number of output classes has gone from 2 to 46, i.e. the \n",
    "dimensionality of the output space is much larger. \n",
    "\n",
    "In a stack of `Dense` layers like what we were using, each layer can only access information present in the output of the previous layer. \n",
    "If one layer drops some information relevant to the classification problem, this information can never be recovered by later layers: each \n",
    "layer can potentially become an \"information bottleneck\". In our previous example, we were using 16-dimensional intermediate layers, but a \n",
    "16-dimensional space may be too limited to learn to separate 46 different classes: such small layers may act as information bottlenecks, \n",
    "permanently dropping relevant information.\n",
    "\n",
    "For this reason we will use larger layers. Let's go with 64 units:"
   ]
  },
  {
   "cell_type": "code",
   "execution_count": 0,
   "metadata": {
    "colab": {},
    "colab_type": "code",
    "id": "ygd4H3wFGsok"
   },
   "outputs": [],
   "source": [
    "from keras import models\n",
    "from keras import layers\n",
    "\n",
    "model = models.Sequential()\n",
    "model.add(layers.Dense(64, activation='relu', input_shape=(10000,)))\n",
    "model.add(layers.Dense(64, activation='relu'))\n",
    "model.add(layers.Dense(46, activation='softmax'))"
   ]
  },
  {
   "cell_type": "markdown",
   "metadata": {
    "colab_type": "text",
    "id": "vVtwdAcbGsom"
   },
   "source": [
    "\n",
    "There are two other things you should note about this architecture:\n",
    "\n",
    "* We are ending the network with a `Dense` layer of size 46. This means that for each input sample, our network will output a \n",
    "46-dimensional vector. Each entry in this vector (each dimension) will encode a different output class.\n",
    "* The last layer uses a `softmax` activation. You have already seen this pattern in the MNIST example. It means that the network will \n",
    "output a _probability distribution_ over the 46 different output classes, i.e. for every input sample, the network will produce a \n",
    "46-dimensional output vector where `output[i]` is the probability that the sample belongs to class `i`. The 46 scores will sum to 1.\n",
    "\n",
    "The best loss function to use in this case is `categorical_crossentropy`. It measures the distance between two probability distributions: \n",
    "in our case, between the probability distribution output by our network, and the true distribution of the labels. By minimizing the \n",
    "distance between these two distributions, we train our network to output something as close as possible to the true labels."
   ]
  },
  {
   "cell_type": "code",
   "execution_count": 0,
   "metadata": {
    "colab": {},
    "colab_type": "code",
    "id": "oKTHHdpGGsoo"
   },
   "outputs": [],
   "source": [
    "model.compile(optimizer='rmsprop',\n",
    "              loss='categorical_crossentropy',\n",
    "              metrics=['accuracy'])"
   ]
  },
  {
   "cell_type": "markdown",
   "metadata": {
    "colab_type": "text",
    "id": "wnJbO-nBGsot"
   },
   "source": [
    "## Validating our approach\n",
    "\n",
    "Let's set apart 1,000 samples in our training data to use as a validation set:"
   ]
  },
  {
   "cell_type": "code",
   "execution_count": 0,
   "metadata": {
    "colab": {},
    "colab_type": "code",
    "id": "SSnD6zqhGsou"
   },
   "outputs": [],
   "source": [
    "x_val = x_train[:1000]\n",
    "partial_x_train = x_train[1000:]\n",
    "\n",
    "y_val = one_hot_train_labels[:1000]\n",
    "partial_y_train = one_hot_train_labels[1000:]"
   ]
  },
  {
   "cell_type": "markdown",
   "metadata": {
    "colab_type": "text",
    "id": "ywewXCcgGsoy"
   },
   "source": [
    "Now let's train our network for 20 epochs:"
   ]
  },
  {
   "cell_type": "code",
   "execution_count": 0,
   "metadata": {
    "colab": {
     "base_uri": "https://localhost:8080/",
     "height": 714
    },
    "colab_type": "code",
    "id": "xjhvA48gGsoy",
    "outputId": "568d0c13-50cb-405e-c74c-353edc7855dc"
   },
   "outputs": [
    {
     "name": "stdout",
     "output_type": "stream",
     "text": [
      "Train on 7982 samples, validate on 1000 samples\n",
      "Epoch 1/20\n",
      "7982/7982 [==============================] - 1s 164us/step - loss: 0.0130 - accuracy: 0.2890 - val_loss: 3.4093 - val_accuracy: 0.5470\n",
      "Epoch 2/20\n",
      "7982/7982 [==============================] - 1s 127us/step - loss: 0.0104 - accuracy: 0.6619 - val_loss: 2.7379 - val_accuracy: 0.6940\n",
      "Epoch 3/20\n",
      "7982/7982 [==============================] - 1s 128us/step - loss: 0.0075 - accuracy: 0.7744 - val_loss: 2.2082 - val_accuracy: 0.7400\n",
      "Epoch 4/20\n",
      "7982/7982 [==============================] - 1s 126us/step - loss: 0.0052 - accuracy: 0.8188 - val_loss: 1.8369 - val_accuracy: 0.7520\n",
      "Epoch 5/20\n",
      "7982/7982 [==============================] - 1s 128us/step - loss: 0.0036 - accuracy: 0.8436 - val_loss: 1.5791 - val_accuracy: 0.7620\n",
      "Epoch 6/20\n",
      "7982/7982 [==============================] - 1s 125us/step - loss: 0.0025 - accuracy: 0.8659 - val_loss: 1.3351 - val_accuracy: 0.7970\n",
      "Epoch 7/20\n",
      "7982/7982 [==============================] - 1s 127us/step - loss: 0.0018 - accuracy: 0.8852 - val_loss: 1.2545 - val_accuracy: 0.8050\n",
      "Epoch 8/20\n",
      "7982/7982 [==============================] - 1s 125us/step - loss: 0.0013 - accuracy: 0.8989 - val_loss: 1.0981 - val_accuracy: 0.8110\n",
      "Epoch 9/20\n",
      "7982/7982 [==============================] - 1s 125us/step - loss: 9.8121e-04 - accuracy: 0.9121 - val_loss: 1.0588 - val_accuracy: 0.8140\n",
      "Epoch 10/20\n",
      "7982/7982 [==============================] - 1s 128us/step - loss: 7.6688e-04 - accuracy: 0.9198 - val_loss: 1.0001 - val_accuracy: 0.8170\n",
      "Epoch 11/20\n",
      "7982/7982 [==============================] - 1s 127us/step - loss: 5.9938e-04 - accuracy: 0.9271 - val_loss: 0.9870 - val_accuracy: 0.8240\n",
      "Epoch 12/20\n",
      "7982/7982 [==============================] - 1s 128us/step - loss: 5.0729e-04 - accuracy: 0.9341 - val_loss: 0.9758 - val_accuracy: 0.8230\n",
      "Epoch 13/20\n",
      "7982/7982 [==============================] - 1s 126us/step - loss: 4.7327e-04 - accuracy: 0.9390 - val_loss: 1.0061 - val_accuracy: 0.8240\n",
      "Epoch 14/20\n",
      "7982/7982 [==============================] - 1s 130us/step - loss: 3.8244e-04 - accuracy: 0.9427 - val_loss: 0.9548 - val_accuracy: 0.8280\n",
      "Epoch 15/20\n",
      "7982/7982 [==============================] - 1s 126us/step - loss: 3.4161e-04 - accuracy: 0.9469 - val_loss: 0.9539 - val_accuracy: 0.8280\n",
      "Epoch 16/20\n",
      "7982/7982 [==============================] - 1s 126us/step - loss: 3.0478e-04 - accuracy: 0.9493 - val_loss: 0.9832 - val_accuracy: 0.8300\n",
      "Epoch 17/20\n",
      "7982/7982 [==============================] - 1s 128us/step - loss: 2.9010e-04 - accuracy: 0.9519 - val_loss: 0.9574 - val_accuracy: 0.8280\n",
      "Epoch 18/20\n",
      "7982/7982 [==============================] - 1s 125us/step - loss: 3.0726e-04 - accuracy: 0.9543 - val_loss: 0.9552 - val_accuracy: 0.8300\n",
      "Epoch 19/20\n",
      "7982/7982 [==============================] - 1s 127us/step - loss: 2.4756e-04 - accuracy: 0.9550 - val_loss: 0.9934 - val_accuracy: 0.8240\n",
      "Epoch 20/20\n",
      "7982/7982 [==============================] - 1s 126us/step - loss: 2.7149e-04 - accuracy: 0.9558 - val_loss: 1.0059 - val_accuracy: 0.8280\n"
     ]
    }
   ],
   "source": [
    "history = model.fit(partial_x_train,\n",
    "                    partial_y_train,\n",
    "                    epochs=20,\n",
    "                    batch_size=512,\n",
    "                    validation_data=(x_val, y_val),class_weight = weightsDict)"
   ]
  },
  {
   "cell_type": "markdown",
   "metadata": {
    "colab_type": "text",
    "id": "L2UHyhZYGso1"
   },
   "source": [
    "Let's display its loss and accuracy curves:"
   ]
  },
  {
   "cell_type": "code",
   "execution_count": 0,
   "metadata": {
    "colab": {
     "base_uri": "https://localhost:8080/",
     "height": 295
    },
    "colab_type": "code",
    "id": "UikNyCnXGso1",
    "outputId": "be29a658-5a71-4d31-e217-b24b2bd06687"
   },
   "outputs": [
    {
     "data": {
      "image/png": "[encoded data removed]",
      "text/plain": [
       "<Figure size 432x288 with 1 Axes>"
      ]
     },
     "metadata": {
      "needs_background": "light",
      "tags": []
     },
     "output_type": "display_data"
    }
   ],
   "source": [
    "import matplotlib.pyplot as plt\n",
    "\n",
    "loss = history.history['loss']\n",
    "val_loss = history.history['val_loss']\n",
    "\n",
    "epochs = range(1, len(loss) + 1)\n",
    "\n",
    "plt.plot(epochs, loss, 'bo', label='Training loss')\n",
    "plt.plot(epochs, val_loss, 'b', label='Validation loss')\n",
    "plt.title('Training and validation loss')\n",
    "plt.xlabel('Epochs')\n",
    "plt.ylabel('Loss')\n",
    "plt.legend()\n",
    "\n",
    "plt.show()"
   ]
  },
  {
   "cell_type": "code",
   "execution_count": 0,
   "metadata": {
    "colab": {
     "base_uri": "https://localhost:8080/",
     "height": 295
    },
    "colab_type": "code",
    "id": "flCuMSkLGso4",
    "outputId": "929693de-0651-4cc6-95ea-07d3db35cf2f"
   },
   "outputs": [
    {
     "data": {
      "image/png": "[encoded data removed]",
      "text/plain": [
       "<Figure size 432x288 with 1 Axes>"
      ]
     },
     "metadata": {
      "needs_background": "light",
      "tags": []
     },
     "output_type": "display_data"
    }
   ],
   "source": [
    "plt.clf()   # clear figure\n",
    "\n",
    "acc = history.history['accuracy']\n",
    "val_acc = history.history['val_accuracy']\n",
    "\n",
    "plt.plot(epochs, acc, 'bo', label='Training acc')\n",
    "plt.plot(epochs, val_acc, 'b', label='Validation acc')\n",
    "plt.title('Training and validation accuracy')\n",
    "plt.xlabel('Epochs')\n",
    "plt.ylabel('Loss')\n",
    "plt.legend()\n",
    "\n",
    "plt.show()"
   ]
  },
  {
   "cell_type": "markdown",
   "metadata": {
    "colab_type": "text",
    "id": "Rqwds0jvGso8"
   },
   "source": [
    "It seems that the network starts overfitting after 8 epochs. Let's train a new network from scratch for 8 epochs, then let's evaluate it on \n",
    "the test set:"
   ]
  },
  {
   "cell_type": "code",
   "execution_count": 0,
   "metadata": {
    "colab": {
     "base_uri": "https://localhost:8080/",
     "height": 323
    },
    "colab_type": "code",
    "id": "Q6q8W05tGso8",
    "outputId": "b287e645-ec9e-4402-99eb-7806710e3c18"
   },
   "outputs": [
    {
     "name": "stdout",
     "output_type": "stream",
     "text": [
      "Train on 7982 samples, validate on 1000 samples\n",
      "Epoch 1/8\n",
      "7982/7982 [==============================] - 1s 138us/step - loss: 2.6490 - accuracy: 0.5352 - val_loss: 1.7492 - val_accuracy: 0.6420\n",
      "Epoch 2/8\n",
      "7982/7982 [==============================] - 1s 126us/step - loss: 1.4202 - accuracy: 0.7098 - val_loss: 1.3053 - val_accuracy: 0.7240\n",
      "Epoch 3/8\n",
      "7982/7982 [==============================] - 1s 128us/step - loss: 1.0453 - accuracy: 0.7795 - val_loss: 1.1448 - val_accuracy: 0.7460\n",
      "Epoch 4/8\n",
      "7982/7982 [==============================] - 1s 125us/step - loss: 0.8149 - accuracy: 0.8232 - val_loss: 1.0266 - val_accuracy: 0.7820\n",
      "Epoch 5/8\n",
      "7982/7982 [==============================] - 1s 127us/step - loss: 0.6454 - accuracy: 0.8649 - val_loss: 0.9782 - val_accuracy: 0.8000\n",
      "Epoch 6/8\n",
      "7982/7982 [==============================] - 1s 126us/step - loss: 0.5176 - accuracy: 0.8966 - val_loss: 0.9299 - val_accuracy: 0.7950\n",
      "Epoch 7/8\n",
      "7982/7982 [==============================] - 1s 127us/step - loss: 0.4209 - accuracy: 0.9168 - val_loss: 0.9094 - val_accuracy: 0.8070\n",
      "Epoch 8/8\n",
      "7982/7982 [==============================] - 1s 127us/step - loss: 0.3344 - accuracy: 0.9286 - val_loss: 0.9246 - val_accuracy: 0.8030\n",
      "2246/2246 [==============================] - 0s 87us/step\n"
     ]
    }
   ],
   "source": [
    "model = models.Sequential()\n",
    "model.add(layers.Dense(64, activation='relu', input_shape=(10000,)))\n",
    "model.add(layers.Dense(64, activation='relu'))\n",
    "model.add(layers.Dense(46, activation='softmax'))\n",
    "\n",
    "model.compile(optimizer='rmsprop',\n",
    "              loss='categorical_crossentropy',\n",
    "              metrics=['accuracy'])\n",
    "model.fit(partial_x_train,\n",
    "          partial_y_train,\n",
    "          epochs=8,\n",
    "          batch_size=512,\n",
    "          validation_data=(x_val, y_val))\n",
    "results = model.evaluate(x_test, one_hot_test_labels)"
   ]
  },
  {
   "cell_type": "code",
   "execution_count": 0,
   "metadata": {
    "colab": {
     "base_uri": "https://localhost:8080/",
     "height": 34
    },
    "colab_type": "code",
    "id": "pwPf5E8LGspB",
    "outputId": "5a5ab8ff-51b9-43f0-fdf4-581221ac26e1"
   },
   "outputs": [
    {
     "data": {
      "text/plain": [
       "[1.0040374812757131, 0.777827262878418]"
      ]
     },
     "execution_count": 36,
     "metadata": {
      "tags": []
     },
     "output_type": "execute_result"
    }
   ],
   "source": [
    "results"
   ]
  },
  {
   "cell_type": "markdown",
   "metadata": {
    "colab_type": "text",
    "id": "6hLqfooeGspE"
   },
   "source": [
    "\n",
    "Our approach reaches an accuracy of ~78%. With a balanced binary classification problem, the accuracy reached by a purely random classifier \n",
    "would be 50%, but in our case it is closer to 19%, so our results seem pretty good, at least when compared to a random baseline:"
   ]
  },
  {
   "cell_type": "code",
   "execution_count": 0,
   "metadata": {
    "colab": {
     "base_uri": "https://localhost:8080/",
     "height": 34
    },
    "colab_type": "code",
    "id": "zxOmYBHTGspF",
    "outputId": "09136f6b-ce21-4e12-d2fc-687c6aafe032"
   },
   "outputs": [
    {
     "data": {
      "text/plain": [
       "0.18432769367764915"
      ]
     },
     "execution_count": 37,
     "metadata": {
      "tags": []
     },
     "output_type": "execute_result"
    }
   ],
   "source": [
    "import copy\n",
    "\n",
    "test_labels_copy = copy.copy(test_labels)\n",
    "np.random.shuffle(test_labels_copy)\n",
    "float(np.sum(np.array(test_labels) == np.array(test_labels_copy))) / len(test_labels)"
   ]
  },
  {
   "cell_type": "markdown",
   "metadata": {
    "colab_type": "text",
    "id": "GC7lBXKHGspK"
   },
   "source": [
    "## Generating predictions on new data\n",
    "\n",
    "We can verify that the `predict` method of our model instance returns a probability distribution over all 46 topics. Let's generate topic \n",
    "predictions for all of the test data:"
   ]
  },
  {
   "cell_type": "code",
   "execution_count": 0,
   "metadata": {
    "colab": {},
    "colab_type": "code",
    "id": "JUoxJfxyGspK"
   },
   "outputs": [],
   "source": [
    "predictions = model.predict(x_test)"
   ]
  },
  {
   "cell_type": "markdown",
   "metadata": {
    "colab_type": "text",
    "id": "KeKIE79FGspN"
   },
   "source": [
    "Each entry in `predictions` is a vector of length 46:"
   ]
  },
  {
   "cell_type": "code",
   "execution_count": 0,
   "metadata": {
    "colab": {
     "base_uri": "https://localhost:8080/",
     "height": 34
    },
    "colab_type": "code",
    "id": "R4EJqv99GspN",
    "outputId": "005df747-7151-4f7d-e896-fa4156f012af"
   },
   "outputs": [
    {
     "data": {
      "text/plain": [
       "(46,)"
      ]
     },
     "execution_count": 45,
     "metadata": {
      "tags": []
     },
     "output_type": "execute_result"
    }
   ],
   "source": [
    "predictions[0].shape\n",
    "print(predictions[0])"
   ]
  },
  {
   "cell_type": "markdown",
   "metadata": {
    "colab_type": "text",
    "id": "n87w89WgGspQ"
   },
   "source": [
    "The coefficients in this vector sum to 1:"
   ]
  },
  {
   "cell_type": "code",
   "execution_count": 0,
   "metadata": {
    "colab": {
     "base_uri": "https://localhost:8080/",
     "height": 34
    },
    "colab_type": "code",
    "id": "MgjZL8B3GspR",
    "outputId": "ce575b20-cb7f-49b3-fc9e-f0fdfcecd82a"
   },
   "outputs": [
    {
     "data": {
      "text/plain": [
       "0.99999994"
      ]
     },
     "execution_count": 40,
     "metadata": {
      "tags": []
     },
     "output_type": "execute_result"
    }
   ],
   "source": [
    "np.sum(predictions[0])"
   ]
  },
  {
   "cell_type": "markdown",
   "metadata": {
    "colab_type": "text",
    "id": "EmE_yckOGspU"
   },
   "source": [
    "The largest entry is the predicted class, i.e. the class with the highest probability:"
   ]
  },
  {
   "cell_type": "code",
   "execution_count": 0,
   "metadata": {
    "colab": {
     "base_uri": "https://localhost:8080/",
     "height": 34
    },
    "colab_type": "code",
    "id": "NeHNBXZiGspV",
    "outputId": "83dbbed2-684e-4f85-e3dc-5728c5fe3f6c"
   },
   "outputs": [
    {
     "data": {
      "text/plain": [
       "3"
      ]
     },
     "execution_count": 41,
     "metadata": {
      "tags": []
     },
     "output_type": "execute_result"
    }
   ],
   "source": [
    "np.argmax(predictions[0])"
   ]
  },
  {
   "cell_type": "markdown",
   "metadata": {
    "colab_type": "text",
    "id": "KcwF8DUlGspX"
   },
   "source": [
    "## A different way to handle the labels and the loss\n",
    "\n",
    "We mentioned earlier that another way to encode the labels would be to cast them as an integer tensor, like such:"
   ]
  },
  {
   "cell_type": "code",
   "execution_count": 0,
   "metadata": {
    "colab": {},
    "colab_type": "code",
    "id": "Js3owkCVGspX"
   },
   "outputs": [],
   "source": [
    "y_train = np.array(train_labels)\n",
    "y_test = np.array(test_labels)"
   ]
  },
  {
   "cell_type": "markdown",
   "metadata": {
    "colab_type": "text",
    "id": "EGS0xqs4Gspe"
   },
   "source": [
    "\n",
    "The only thing it would change is the choice of the loss function. Our previous loss, `categorical_crossentropy`, expects the labels to \n",
    "follow a categorical encoding. With integer labels, we should use `sparse_categorical_crossentropy`:"
   ]
  },
  {
   "cell_type": "code",
   "execution_count": 0,
   "metadata": {
    "colab": {},
    "colab_type": "code",
    "id": "XLvKeuubGspe"
   },
   "outputs": [],
   "source": [
    "model.compile(optimizer='rmsprop', loss='sparse_categorical_crossentropy', metrics=['acc'])"
   ]
  },
  {
   "cell_type": "markdown",
   "metadata": {
    "colab_type": "text",
    "id": "WLXQ9eh7Gspj"
   },
   "source": [
    "This new loss function is still mathematically the same as `categorical_crossentropy`; it just has a different interface."
   ]
  },
  {
   "cell_type": "markdown",
   "metadata": {
    "colab_type": "text",
    "id": "BrAHxbi0Gspj"
   },
   "source": [
    "## On the importance of having sufficiently large intermediate layers\n",
    "\n",
    "\n",
    "We mentioned earlier that since our final outputs were 46-dimensional, we should avoid intermediate layers with much less than 46 hidden \n",
    "units. Now let's try to see what happens when we introduce an information bottleneck by having intermediate layers significantly less than \n",
    "46-dimensional, e.g. 4-dimensional."
   ]
  },
  {
   "cell_type": "code",
   "execution_count": 0,
   "metadata": {
    "colab": {
     "base_uri": "https://localhost:8080/",
     "height": 731
    },
    "colab_type": "code",
    "id": "AlWbfgWvGspj",
    "outputId": "7e42871c-f40d-4d1b-c199-a38a8eac1ccf"
   },
   "outputs": [
    {
     "name": "stdout",
     "output_type": "stream",
     "text": [
      "Train on 7982 samples, validate on 1000 samples\n",
      "Epoch 1/20\n",
      "7982/7982 [==============================] - 1s 173us/step - loss: 2.8662 - accuracy: 0.2711 - val_loss: 2.1979 - val_accuracy: 0.4160\n",
      "Epoch 2/20\n",
      "7982/7982 [==============================] - 1s 168us/step - loss: 1.8654 - accuracy: 0.4669 - val_loss: 1.6804 - val_accuracy: 0.5780\n",
      "Epoch 3/20\n",
      "7982/7982 [==============================] - 1s 164us/step - loss: 1.4618 - accuracy: 0.6407 - val_loss: 1.4901 - val_accuracy: 0.6430\n",
      "Epoch 4/20\n",
      "7982/7982 [==============================] - 1s 160us/step - loss: 1.2797 - accuracy: 0.6670 - val_loss: 1.4329 - val_accuracy: 0.6560\n",
      "Epoch 5/20\n",
      "7982/7982 [==============================] - 1s 160us/step - loss: 1.1702 - accuracy: 0.6852 - val_loss: 1.4150 - val_accuracy: 0.6540\n",
      "Epoch 6/20\n",
      "7982/7982 [==============================] - 1s 160us/step - loss: 1.0905 - accuracy: 0.7008 - val_loss: 1.4193 - val_accuracy: 0.6680\n",
      "Epoch 7/20\n",
      "7982/7982 [==============================] - 1s 160us/step - loss: 1.0245 - accuracy: 0.7126 - val_loss: 1.4356 - val_accuracy: 0.6720\n",
      "Epoch 8/20\n",
      "7982/7982 [==============================] - 1s 162us/step - loss: 0.9700 - accuracy: 0.7205 - val_loss: 1.4394 - val_accuracy: 0.6660\n",
      "Epoch 9/20\n",
      "7982/7982 [==============================] - 1s 158us/step - loss: 0.9227 - accuracy: 0.7303 - val_loss: 1.4822 - val_accuracy: 0.6710\n",
      "Epoch 10/20\n",
      "7982/7982 [==============================] - 1s 162us/step - loss: 0.8853 - accuracy: 0.7414 - val_loss: 1.4809 - val_accuracy: 0.6720\n",
      "Epoch 11/20\n",
      "7982/7982 [==============================] - 1s 162us/step - loss: 0.8476 - accuracy: 0.7484 - val_loss: 1.5428 - val_accuracy: 0.6720\n",
      "Epoch 12/20\n",
      "7982/7982 [==============================] - 1s 160us/step - loss: 0.8175 - accuracy: 0.7541 - val_loss: 1.5676 - val_accuracy: 0.6740\n",
      "Epoch 13/20\n",
      "7982/7982 [==============================] - 1s 158us/step - loss: 0.7899 - accuracy: 0.7671 - val_loss: 1.6165 - val_accuracy: 0.6660\n",
      "Epoch 14/20\n",
      "7982/7982 [==============================] - 1s 159us/step - loss: 0.7635 - accuracy: 0.7705 - val_loss: 1.6932 - val_accuracy: 0.6730\n",
      "Epoch 15/20\n",
      "7982/7982 [==============================] - 1s 159us/step - loss: 0.7372 - accuracy: 0.7831 - val_loss: 1.7082 - val_accuracy: 0.6720\n",
      "Epoch 16/20\n",
      "7982/7982 [==============================] - 1s 161us/step - loss: 0.7130 - accuracy: 0.7982 - val_loss: 1.7360 - val_accuracy: 0.6770\n",
      "Epoch 17/20\n",
      "7982/7982 [==============================] - 1s 160us/step - loss: 0.6911 - accuracy: 0.8058 - val_loss: 1.7982 - val_accuracy: 0.6790\n",
      "Epoch 18/20\n",
      "7982/7982 [==============================] - 1s 162us/step - loss: 0.6689 - accuracy: 0.8079 - val_loss: 1.8758 - val_accuracy: 0.6820\n",
      "Epoch 19/20\n",
      "7982/7982 [==============================] - 1s 161us/step - loss: 0.6471 - accuracy: 0.8099 - val_loss: 1.9402 - val_accuracy: 0.6750\n",
      "Epoch 20/20\n",
      "7982/7982 [==============================] - 1s 163us/step - loss: 0.6304 - accuracy: 0.8121 - val_loss: 2.0255 - val_accuracy: 0.6770\n"
     ]
    },
    {
     "data": {
      "text/plain": [
       "<keras.callbacks.callbacks.History at 0x7ff8314b7dd8>"
      ]
     },
     "execution_count": 44,
     "metadata": {
      "tags": []
     },
     "output_type": "execute_result"
    }
   ],
   "source": [
    "model = models.Sequential()\n",
    "model.add(layers.Dense(64, activation='relu', input_shape=(10000,)))\n",
    "model.add(layers.Dense(4, activation='relu'))\n",
    "model.add(layers.Dense(46, activation='softmax'))\n",
    "\n",
    "model.compile(optimizer='rmsprop',\n",
    "              loss='categorical_crossentropy',\n",
    "              metrics=['accuracy'])\n",
    "model.fit(partial_x_train,\n",
    "          partial_y_train,\n",
    "          epochs=20,\n",
    "          batch_size=128,\n",
    "          validation_data=(x_val, y_val))"
   ]
  },
  {
   "cell_type": "markdown",
   "metadata": {
    "colab_type": "text",
    "id": "x4RgPiCeGspm"
   },
   "source": [
    "\n",
    "Our network now seems to peak at ~71% test accuracy, a 8% absolute drop. This drop is mostly due to the fact that we are now trying to \n",
    "compress a lot of information (enough information to recover the separation hyperplanes of 46 classes) into an intermediate space that is \n",
    "too low-dimensional. The network is able to cram _most_ of the necessary information into these 8-dimensional representations, but not all \n",
    "of it."
   ]
  },
  {
   "cell_type": "markdown",
   "metadata": {
    "colab_type": "text",
    "id": "Pt1JSFbvGspm"
   },
   "source": [
    "## Further experiments\n",
    "\n",
    "* Try using larger or smaller layers: 32 units, 128 units...\n",
    "* We were using two hidden layers. Now try to use a single hidden layer, or three hidden layers."
   ]
  },
  {
   "cell_type": "markdown",
   "metadata": {
    "colab_type": "text",
    "id": "8EE5prPFGspn"
   },
   "source": [
    "## Wrapping up\n",
    "\n",
    "\n",
    "Here's what you should take away from this example:\n",
    "\n",
    "* If you are trying to classify data points between N classes, your network should end with a `Dense` layer of size N.\n",
    "* In a single-label, multi-class classification problem, your network should end with a `softmax` activation, so that it will output a \n",
    "probability distribution over the N output classes.\n",
    "* _Categorical crossentropy_ is almost always the loss function you should use for such problems. It minimizes the distance between the \n",
    "probability distributions output by the network, and the true distribution of the targets.\n",
    "* There are two ways to handle labels in multi-class classification:\n",
    "    ** Encoding the labels via \"categorical encoding\" (also known as \"one-hot encoding\") and using `categorical_crossentropy` as your loss \n",
    "function.\n",
    "    ** Encoding the labels as integers and using the `sparse_categorical_crossentropy` loss function.\n",
    "* If you need to classify data into a large number of categories, then you should avoid creating information bottlenecks in your network by having \n",
    "intermediate layers that are too small."
   ]
  },
  {
   "cell_type": "code",
   "execution_count": 0,
   "metadata": {
    "colab": {},
    "colab_type": "code",
    "id": "2iHbpIcFGspn"
   },
   "outputs": [],
   "source": []
  },
  {
   "cell_type": "code",
   "execution_count": 0,
   "metadata": {
    "colab": {},
    "colab_type": "code",
    "id": "Gr_CtccMGsps"
   },
   "outputs": [],
   "source": []
  },
  {
   "cell_type": "markdown",
   "metadata": {
    "colab_type": "text",
    "id": "lUsOkmyRK314"
   },
   "source": [
    "# Zadanie 1\n"
   ]
  },
  {
   "cell_type": "markdown",
   "metadata": {
    "colab_type": "text",
    "id": "_VwIs1ivYThO"
   },
   "source": [
    "Imports and data"
   ]
  },
  {
   "cell_type": "code",
   "execution_count": 0,
   "metadata": {
    "colab": {},
    "colab_type": "code",
    "id": "Lv9pP_HoYVHs"
   },
   "outputs": [],
   "source": [
    "from sklearn.metrics import classification_report, plot_confusion_matrix\n",
    "\n",
    "one_hot_train_labels = to_categorical(train_labels)\n",
    "one_hot_test_labels = to_categorical(test_labels)\n",
    "\n",
    "x_val = x_train[:1000]\n",
    "partial_x_train = x_train[1000:]\n",
    "\n",
    "y_val = one_hot_train_labels[:1000]\n",
    "partial_y_train = one_hot_train_labels[1000:]"
   ]
  },
  {
   "cell_type": "markdown",
   "metadata": {
    "colab_type": "text",
    "id": "2jo-Sm1tYWV7"
   },
   "source": [
    "# Base params\n",
    "2 hidden layers, 64 layer size, categorical_crossentropy loss function, relu activation function"
   ]
  },
  {
   "cell_type": "code",
   "execution_count": 0,
   "metadata": {
    "colab": {
     "base_uri": "https://localhost:8080/",
     "height": 1000
    },
    "colab_type": "code",
    "id": "V80VQuomLczB",
    "outputId": "70b87464-d1eb-4597-9607-ba0fd2a408ce"
   },
   "outputs": [
    {
     "name": "stdout",
     "output_type": "stream",
     "text": [
      "Train on 7982 samples, validate on 1000 samples\n",
      "Epoch 1/8\n",
      "7982/7982 [==============================] - 1s 145us/step - loss: 2.5442 - accuracy: 0.5353 - val_loss: 1.6537 - val_accuracy: 0.6350\n",
      "Epoch 2/8\n",
      "7982/7982 [==============================] - 1s 133us/step - loss: 1.3520 - accuracy: 0.7090 - val_loss: 1.2624 - val_accuracy: 0.7160\n",
      "Epoch 3/8\n",
      "7982/7982 [==============================] - 1s 134us/step - loss: 1.0155 - accuracy: 0.7769 - val_loss: 1.1131 - val_accuracy: 0.7470\n",
      "Epoch 4/8\n",
      "7982/7982 [==============================] - 1s 134us/step - loss: 0.8034 - accuracy: 0.8279 - val_loss: 1.0107 - val_accuracy: 0.7780\n",
      "Epoch 5/8\n",
      "7982/7982 [==============================] - 1s 134us/step - loss: 0.6389 - accuracy: 0.8707 - val_loss: 0.9637 - val_accuracy: 0.8050\n",
      "Epoch 6/8\n",
      "7982/7982 [==============================] - 1s 134us/step - loss: 0.5121 - accuracy: 0.8979 - val_loss: 0.9259 - val_accuracy: 0.8040\n",
      "Epoch 7/8\n",
      "7982/7982 [==============================] - 1s 135us/step - loss: 0.4114 - accuracy: 0.9167 - val_loss: 0.8918 - val_accuracy: 0.8190\n",
      "Epoch 8/8\n",
      "7982/7982 [==============================] - 1s 138us/step - loss: 0.3341 - accuracy: 0.9316 - val_loss: 0.9771 - val_accuracy: 0.7860\n",
      "confusion matrix:\n",
      "[[ 7  2  0 ...  0  0  0]\n",
      " [ 0 84  0 ...  0  0  0]\n",
      " [ 0  3 12 ...  0  0  0]\n",
      " ...\n",
      " [ 0  0  0 ...  4  0  0]\n",
      " [ 0  0  0 ...  0  4  0]\n",
      " [ 0  0  0 ...  0  0  0]]\n",
      "classification raport:\n",
      "              precision    recall  f1-score   support\n",
      "\n",
      "           0       0.88      0.58      0.70        12\n",
      "           1       0.64      0.80      0.71       105\n",
      "           2       0.75      0.60      0.67        20\n",
      "           3       0.81      0.97      0.88       813\n",
      "           4       0.90      0.75      0.82       474\n",
      "           6       1.00      0.79      0.88        14\n",
      "           7       1.00      0.33      0.50         3\n",
      "           8       0.73      0.63      0.68        38\n",
      "           9       0.81      0.68      0.74        25\n",
      "          10       0.96      0.73      0.83        30\n",
      "          11       0.58      0.73      0.65        83\n",
      "          12       0.00      0.00      0.00        13\n",
      "          13       0.59      0.70      0.64        37\n",
      "          15       0.50      0.11      0.18         9\n",
      "          16       0.72      0.74      0.73        99\n",
      "          17       1.00      0.17      0.29        12\n",
      "          18       0.69      0.55      0.61        20\n",
      "          19       0.62      0.74      0.67       133\n",
      "          20       0.61      0.50      0.55        70\n",
      "          21       0.57      0.63      0.60        27\n",
      "          23       0.50      0.42      0.45        12\n",
      "          24       0.46      0.32      0.37        19\n",
      "          25       0.83      0.48      0.61        31\n",
      "          26       1.00      0.88      0.93         8\n",
      "          27       1.00      0.25      0.40         4\n",
      "          28       0.50      0.20      0.29        10\n",
      "          29       0.00      0.00      0.00         4\n",
      "          30       0.50      0.67      0.57        12\n",
      "          31       0.80      0.31      0.44        13\n",
      "          32       0.78      0.70      0.74        10\n",
      "          34       0.83      0.71      0.77         7\n",
      "          36       0.22      0.18      0.20        11\n",
      "          39       0.00      0.00      0.00         5\n",
      "          41       0.50      0.12      0.20         8\n",
      "          43       0.80      0.67      0.73         6\n",
      "          44       1.00      0.80      0.89         5\n",
      "\n",
      "   micro avg       0.77      0.78      0.77      2202\n",
      "   macro avg       0.67      0.51      0.55      2202\n",
      "weighted avg       0.77      0.78      0.76      2202\n",
      "\n"
     ]
    }
   ],
   "source": [
    "model = models.Sequential()\n",
    "model.add(layers.Dense(64, activation='relu', input_shape=(10000,)))\n",
    "model.add(layers.Dense(64, activation='relu'))\n",
    "model.add(layers.Dense(46, activation='softmax'))\n",
    "\n",
    "model.compile(optimizer='rmsprop',\n",
    "              loss='categorical_crossentropy',\n",
    "              metrics=['accuracy'])\n",
    "\n",
    "model.fit(partial_x_train,\n",
    "          partial_y_train,\n",
    "          epochs=8,\n",
    "          batch_size=512,\n",
    "          validation_data=(x_val, y_val))\n",
    "\n",
    "predictions = model.predict(x_test);\n",
    "\n",
    "predicted_labels = np.array([np.argmax(predictions[i]) for i in range(0, predictions.shape[0])])\n",
    "\n",
    "print(\"confusion matrix:\")\n",
    "print(confusion_matrix(y_test, predicted_labels))\n",
    "print(\"classification raport:\")\n",
    "print(classification_report(y_test, predicted_labels, labels=np.unique(predicted_labels)))"
   ]
  },
  {
   "cell_type": "markdown",
   "metadata": {
    "colab_type": "text",
    "id": "TcXK1BR6ayFP"
   },
   "source": [
    "precision: 0.77, f1-score: 0.76"
   ]
  },
  {
   "cell_type": "markdown",
   "metadata": {
    "colab_type": "text",
    "id": "vd9maxDua6ZT"
   },
   "source": [
    "1 hidden layer, 64 layer size, categorical_crossentropy loss function, relu activation function"
   ]
  },
  {
   "cell_type": "code",
   "execution_count": 0,
   "metadata": {
    "colab": {
     "base_uri": "https://localhost:8080/",
     "height": 1000
    },
    "colab_type": "code",
    "id": "V2SNG3JRa-BI",
    "outputId": "14c9e9f5-e4f9-4693-9f37-13929e3b7eb8"
   },
   "outputs": [
    {
     "name": "stdout",
     "output_type": "stream",
     "text": [
      "Train on 7982 samples, validate on 1000 samples\n",
      "Epoch 1/8\n",
      "7982/7982 [==============================] - 1s 141us/step - loss: 2.6187 - accuracy: 0.5646 - val_loss: 1.8481 - val_accuracy: 0.6440\n",
      "Epoch 2/8\n",
      "7982/7982 [==============================] - 1s 135us/step - loss: 1.4900 - accuracy: 0.7144 - val_loss: 1.3449 - val_accuracy: 0.7270\n",
      "Epoch 3/8\n",
      "7982/7982 [==============================] - 1s 134us/step - loss: 1.0753 - accuracy: 0.7861 - val_loss: 1.1307 - val_accuracy: 0.7630\n",
      "Epoch 4/8\n",
      "7982/7982 [==============================] - 1s 134us/step - loss: 0.8364 - accuracy: 0.8332 - val_loss: 1.0062 - val_accuracy: 0.8030\n",
      "Epoch 5/8\n",
      "7982/7982 [==============================] - 1s 135us/step - loss: 0.6721 - accuracy: 0.8710 - val_loss: 0.9330 - val_accuracy: 0.8060\n",
      "Epoch 6/8\n",
      "7982/7982 [==============================] - 1s 138us/step - loss: 0.5486 - accuracy: 0.8923 - val_loss: 0.8863 - val_accuracy: 0.8170\n",
      "Epoch 7/8\n",
      "7982/7982 [==============================] - 1s 134us/step - loss: 0.4527 - accuracy: 0.9080 - val_loss: 0.8577 - val_accuracy: 0.8180\n",
      "Epoch 8/8\n",
      "7982/7982 [==============================] - 1s 136us/step - loss: 0.3776 - accuracy: 0.9217 - val_loss: 0.8318 - val_accuracy: 0.8240\n",
      "confusion matrix:\n",
      "[[ 7  2  0 ...  0  0  0]\n",
      " [ 0 86  0 ...  0  0  0]\n",
      " [ 0  4 12 ...  0  0  0]\n",
      " ...\n",
      " [ 0  0  0 ...  2  0  0]\n",
      " [ 0  0  0 ...  0  4  0]\n",
      " [ 0  0  0 ...  0  0  0]]\n",
      "classification raport:\n",
      "              precision    recall  f1-score   support\n",
      "\n",
      "           0       0.88      0.58      0.70        12\n",
      "           1       0.62      0.82      0.71       105\n",
      "           2       0.80      0.60      0.69        20\n",
      "           3       0.93      0.94      0.93       813\n",
      "           4       0.77      0.91      0.84       474\n",
      "           6       0.93      0.93      0.93        14\n",
      "           7       1.00      0.33      0.50         3\n",
      "           8       0.73      0.63      0.68        38\n",
      "           9       0.81      0.68      0.74        25\n",
      "          10       0.86      0.83      0.85        30\n",
      "          11       0.56      0.81      0.66        83\n",
      "          12       0.33      0.08      0.12        13\n",
      "          13       0.57      0.62      0.60        37\n",
      "          15       0.50      0.11      0.18         9\n",
      "          16       0.73      0.78      0.75        99\n",
      "          17       1.00      0.08      0.15        12\n",
      "          18       0.55      0.60      0.57        20\n",
      "          19       0.67      0.72      0.69       133\n",
      "          20       0.73      0.47      0.57        70\n",
      "          21       0.67      0.81      0.73        27\n",
      "          23       0.57      0.33      0.42        12\n",
      "          24       0.50      0.16      0.24        19\n",
      "          25       0.85      0.55      0.67        31\n",
      "          26       1.00      0.75      0.86         8\n",
      "          27       1.00      0.25      0.40         4\n",
      "          28       0.20      0.10      0.13        10\n",
      "          29       0.00      0.00      0.00         4\n",
      "          30       0.80      0.33      0.47        12\n",
      "          31       0.43      0.23      0.30        13\n",
      "          32       1.00      0.70      0.82        10\n",
      "          33       1.00      0.60      0.75         5\n",
      "          34       1.00      0.71      0.83         7\n",
      "          35       1.00      0.17      0.29         6\n",
      "          36       0.00      0.00      0.00        11\n",
      "          37       0.00      0.00      0.00         2\n",
      "          38       1.00      0.33      0.50         3\n",
      "          41       0.50      0.12      0.20         8\n",
      "          43       1.00      0.33      0.50         6\n",
      "          44       1.00      0.80      0.89         5\n",
      "\n",
      "   micro avg       0.79      0.80      0.80      2213\n",
      "   macro avg       0.70      0.48      0.54      2213\n",
      "weighted avg       0.79      0.80      0.78      2213\n",
      "\n"
     ]
    }
   ],
   "source": [
    "model = models.Sequential()\n",
    "model.add(layers.Dense(64, activation='relu', input_shape=(10000,)))\n",
    "model.add(layers.Dense(46, activation='softmax'))\n",
    "\n",
    "model.compile(optimizer='rmsprop',\n",
    "              loss='categorical_crossentropy',\n",
    "              metrics=['accuracy'])\n",
    "\n",
    "model.fit(partial_x_train,\n",
    "          partial_y_train,\n",
    "          epochs=8,\n",
    "          batch_size=512,\n",
    "          validation_data=(x_val, y_val))\n",
    "\n",
    "predictions = model.predict(x_test);\n",
    "\n",
    "predicted_labels = np.array([np.argmax(predictions[i]) for i in range(0, predictions.shape[0])])\n",
    "\n",
    "print(\"confusion matrix:\")\n",
    "print(confusion_matrix(y_test, predicted_labels))\n",
    "print(\"classification raport:\")\n",
    "print(classification_report(y_test, predicted_labels, labels=np.unique(predicted_labels)))"
   ]
  },
  {
   "cell_type": "markdown",
   "metadata": {
    "colab_type": "text",
    "id": "3yDc-f6fbPuV"
   },
   "source": [
    "precision: 0.79, f1-score: 0.78"
   ]
  },
  {
   "cell_type": "markdown",
   "metadata": {
    "colab_type": "text",
    "id": "Wt1MiVaHcNUm"
   },
   "source": [
    "3 hidden layers, 64 layer size, categorical_crossentropy loss function, relu activation function"
   ]
  },
  {
   "cell_type": "code",
   "execution_count": 0,
   "metadata": {
    "colab": {
     "base_uri": "https://localhost:8080/",
     "height": 1000
    },
    "colab_type": "code",
    "id": "UyF7GgSscP_G",
    "outputId": "0e3ac365-be73-45c7-db19-50d0e030533d"
   },
   "outputs": [
    {
     "name": "stdout",
     "output_type": "stream",
     "text": [
      "Train on 7982 samples, validate on 1000 samples\n",
      "Epoch 1/8\n",
      "7982/7982 [==============================] - 1s 151us/step - loss: 2.6020 - accuracy: 0.4981 - val_loss: 1.7184 - val_accuracy: 0.5830\n",
      "Epoch 2/8\n",
      "7982/7982 [==============================] - 1s 136us/step - loss: 1.4253 - accuracy: 0.6824 - val_loss: 1.2971 - val_accuracy: 0.6960\n",
      "Epoch 3/8\n",
      "7982/7982 [==============================] - 1s 135us/step - loss: 1.0818 - accuracy: 0.7552 - val_loss: 1.1618 - val_accuracy: 0.7340\n",
      "Epoch 4/8\n",
      "7982/7982 [==============================] - 1s 136us/step - loss: 0.8549 - accuracy: 0.8064 - val_loss: 1.0433 - val_accuracy: 0.7700\n",
      "Epoch 5/8\n",
      "7982/7982 [==============================] - 1s 136us/step - loss: 0.6855 - accuracy: 0.8464 - val_loss: 0.9892 - val_accuracy: 0.7850\n",
      "Epoch 6/8\n",
      "7982/7982 [==============================] - 1s 132us/step - loss: 0.5476 - accuracy: 0.8742 - val_loss: 0.9885 - val_accuracy: 0.7820\n",
      "Epoch 7/8\n",
      "7982/7982 [==============================] - 1s 133us/step - loss: 0.4355 - accuracy: 0.9028 - val_loss: 1.0115 - val_accuracy: 0.7880\n",
      "Epoch 8/8\n",
      "7982/7982 [==============================] - 1s 133us/step - loss: 0.3585 - accuracy: 0.9201 - val_loss: 0.9539 - val_accuracy: 0.8060\n",
      "confusion matrix:\n",
      "[[ 6  3  0 ...  0  0  0]\n",
      " [ 0 86  0 ...  0  0  0]\n",
      " [ 0  4 13 ...  0  0  0]\n",
      " ...\n",
      " [ 0  0  0 ...  4  0  0]\n",
      " [ 0  1  0 ...  0  0  0]\n",
      " [ 0  0  0 ...  0  0  0]]\n",
      "classification raport:\n",
      "              precision    recall  f1-score   support\n",
      "\n",
      "           0       0.67      0.50      0.57        12\n",
      "           1       0.57      0.82      0.67       105\n",
      "           2       0.76      0.65      0.70        20\n",
      "           3       0.90      0.95      0.92       813\n",
      "           4       0.79      0.90      0.84       474\n",
      "           6       0.76      0.93      0.84        14\n",
      "           7       1.00      0.33      0.50         3\n",
      "           8       0.69      0.63      0.66        38\n",
      "           9       0.84      0.64      0.73        25\n",
      "          10       0.83      0.80      0.81        30\n",
      "          11       0.60      0.75      0.67        83\n",
      "          12       0.33      0.08      0.12        13\n",
      "          13       0.58      0.49      0.53        37\n",
      "          15       0.50      0.11      0.18         9\n",
      "          16       0.66      0.76      0.70        99\n",
      "          17       1.00      0.17      0.29        12\n",
      "          18       0.48      0.65      0.55        20\n",
      "          19       0.62      0.68      0.65       133\n",
      "          20       0.59      0.50      0.54        70\n",
      "          21       0.70      0.59      0.64        27\n",
      "          23       0.25      0.08      0.12        12\n",
      "          24       0.50      0.16      0.24        19\n",
      "          25       0.70      0.52      0.59        31\n",
      "          26       1.00      0.25      0.40         8\n",
      "          27       1.00      0.25      0.40         4\n",
      "          28       0.00      0.00      0.00        10\n",
      "          29       0.00      0.00      0.00         4\n",
      "          30       0.50      0.17      0.25        12\n",
      "          31       0.50      0.15      0.24        13\n",
      "          32       1.00      0.40      0.57        10\n",
      "          34       0.80      0.57      0.67         7\n",
      "          36       0.20      0.09      0.13        11\n",
      "          38       1.00      0.33      0.50         3\n",
      "          41       0.00      0.00      0.00         8\n",
      "          43       0.80      0.67      0.73         6\n",
      "\n",
      "   micro avg       0.77      0.79      0.78      2195\n",
      "   macro avg       0.63      0.44      0.48      2195\n",
      "weighted avg       0.76      0.79      0.76      2195\n",
      "\n"
     ]
    }
   ],
   "source": [
    "model = models.Sequential()\n",
    "model.add(layers.Dense(64, activation='relu', input_shape=(10000,)))\n",
    "model.add(layers.Dense(64, activation='relu'))\n",
    "model.add(layers.Dense(64, activation='relu'))\n",
    "model.add(layers.Dense(46, activation='softmax'))\n",
    "\n",
    "model.compile(optimizer='rmsprop',\n",
    "              loss='categorical_crossentropy',\n",
    "              metrics=['accuracy'])\n",
    "\n",
    "model.fit(partial_x_train,\n",
    "          partial_y_train,\n",
    "          epochs=8,\n",
    "          batch_size=512,\n",
    "          validation_data=(x_val, y_val))\n",
    "\n",
    "predictions = model.predict(x_test);\n",
    "\n",
    "predicted_labels = np.array([np.argmax(predictions[i]) for i in range(0, predictions.shape[0])])\n",
    "\n",
    "print(\"confusion matrix:\")\n",
    "print(confusion_matrix(y_test, predicted_labels))\n",
    "print(\"classification raport:\")\n",
    "print(classification_report(y_test, predicted_labels, labels=np.unique(predicted_labels)))"
   ]
  },
  {
   "cell_type": "markdown",
   "metadata": {
    "colab_type": "text",
    "id": "CMAMB5HLdRgH"
   },
   "source": [
    "precision: 0.76, f1-score: 0.76"
   ]
  },
  {
   "cell_type": "markdown",
   "metadata": {
    "colab_type": "text",
    "id": "PYj387CTdZcH"
   },
   "source": [
    "2 hidden layers, 32 layer size, categorical_crossentropy loss function, relu activation function"
   ]
  },
  {
   "cell_type": "code",
   "execution_count": 0,
   "metadata": {
    "colab": {
     "base_uri": "https://localhost:8080/",
     "height": 1000
    },
    "colab_type": "code",
    "id": "0jFkp52OdVSq",
    "outputId": "8d8f2078-c52b-478e-c26c-7b39d375bce1"
   },
   "outputs": [
    {
     "name": "stdout",
     "output_type": "stream",
     "text": [
      "Train on 7982 samples, validate on 1000 samples\n",
      "Epoch 1/8\n",
      "7982/7982 [==============================] - 1s 115us/step - loss: 3.0336 - accuracy: 0.3494 - val_loss: 2.2944 - val_accuracy: 0.5370\n",
      "Epoch 2/8\n",
      "7982/7982 [==============================] - 1s 105us/step - loss: 1.8918 - accuracy: 0.6254 - val_loss: 1.6309 - val_accuracy: 0.6490\n",
      "Epoch 3/8\n",
      "7982/7982 [==============================] - 1s 106us/step - loss: 1.4090 - accuracy: 0.7100 - val_loss: 1.3590 - val_accuracy: 0.6950\n",
      "Epoch 4/8\n",
      "7982/7982 [==============================] - 1s 106us/step - loss: 1.1531 - accuracy: 0.7567 - val_loss: 1.2226 - val_accuracy: 0.7360\n",
      "Epoch 5/8\n",
      "7982/7982 [==============================] - 1s 106us/step - loss: 0.9797 - accuracy: 0.7955 - val_loss: 1.1437 - val_accuracy: 0.7540\n",
      "Epoch 6/8\n",
      "7982/7982 [==============================] - 1s 108us/step - loss: 0.8449 - accuracy: 0.8210 - val_loss: 1.0894 - val_accuracy: 0.7700\n",
      "Epoch 7/8\n",
      "7982/7982 [==============================] - 1s 107us/step - loss: 0.7311 - accuracy: 0.8449 - val_loss: 1.0427 - val_accuracy: 0.7820\n",
      "Epoch 8/8\n",
      "7982/7982 [==============================] - 1s 107us/step - loss: 0.6338 - accuracy: 0.8643 - val_loss: 1.0096 - val_accuracy: 0.7850\n",
      "confusion matrix:\n",
      "[[ 6  2  0 ...  0  0  0]\n",
      " [ 0 88  0 ...  0  0  0]\n",
      " [ 0  3  9 ...  0  0  0]\n",
      " ...\n",
      " [ 0  0  0 ...  1  0  0]\n",
      " [ 0  0  0 ...  0  0  0]\n",
      " [ 0  0  0 ...  0  0  0]]\n",
      "classification raport:\n",
      "              precision    recall  f1-score   support\n",
      "\n",
      "           0       0.67      0.50      0.57        12\n",
      "           1       0.62      0.84      0.71       105\n",
      "           2       0.90      0.45      0.60        20\n",
      "           3       0.86      0.95      0.90       813\n",
      "           4       0.81      0.91      0.85       474\n",
      "           6       1.00      0.21      0.35        14\n",
      "           7       1.00      0.33      0.50         3\n",
      "           8       0.68      0.61      0.64        38\n",
      "           9       0.67      0.72      0.69        25\n",
      "          10       0.77      0.67      0.71        30\n",
      "          11       0.61      0.80      0.69        83\n",
      "          12       0.00      0.00      0.00        13\n",
      "          13       0.47      0.62      0.53        37\n",
      "          15       0.00      0.00      0.00         9\n",
      "          16       0.63      0.79      0.70        99\n",
      "          18       0.44      0.60      0.51        20\n",
      "          19       0.67      0.64      0.65       133\n",
      "          20       0.53      0.49      0.51        70\n",
      "          21       0.56      0.70      0.62        27\n",
      "          23       0.00      0.00      0.00        12\n",
      "          24       0.00      0.00      0.00        19\n",
      "          25       0.75      0.39      0.51        31\n",
      "          28       0.00      0.00      0.00        10\n",
      "          32       1.00      0.40      0.57        10\n",
      "          41       0.00      0.00      0.00         8\n",
      "          43       1.00      0.17      0.29         6\n",
      "\n",
      "   micro avg       0.76      0.80      0.78      2121\n",
      "   macro avg       0.56      0.45      0.47      2121\n",
      "weighted avg       0.74      0.80      0.76      2121\n",
      "\n"
     ]
    }
   ],
   "source": [
    "model = models.Sequential()\n",
    "model.add(layers.Dense(32, activation='relu', input_shape=(10000,)))\n",
    "model.add(layers.Dense(32, activation='relu'))\n",
    "model.add(layers.Dense(46, activation='softmax'))\n",
    "\n",
    "model.compile(optimizer='rmsprop',\n",
    "              loss='categorical_crossentropy',\n",
    "              metrics=['accuracy'])\n",
    "\n",
    "model.fit(partial_x_train,\n",
    "          partial_y_train,\n",
    "          epochs=8,\n",
    "          batch_size=512,\n",
    "          validation_data=(x_val, y_val))\n",
    "\n",
    "predictions = model.predict(x_test);\n",
    "\n",
    "predicted_labels = np.array([np.argmax(predictions[i]) for i in range(0, predictions.shape[0])])\n",
    "\n",
    "print(\"confusion matrix:\")\n",
    "print(confusion_matrix(y_test, predicted_labels))\n",
    "print(\"classification raport:\")\n",
    "print(classification_report(y_test, predicted_labels, labels=np.unique(predicted_labels)))"
   ]
  },
  {
   "cell_type": "markdown",
   "metadata": {
    "colab_type": "text",
    "id": "vLNmDvNfdsYm"
   },
   "source": [
    "precision: 0.74, f1-score: 0.76"
   ]
  },
  {
   "cell_type": "markdown",
   "metadata": {
    "colab_type": "text",
    "id": "OSPYoWI6d0hh"
   },
   "source": [
    "2 hidden layers, 128 layer size, categorical_hinge loss function, relu activation function"
   ]
  },
  {
   "cell_type": "code",
   "execution_count": 0,
   "metadata": {
    "colab": {
     "base_uri": "https://localhost:8080/",
     "height": 1000
    },
    "colab_type": "code",
    "id": "A8-Rr72zd5ek",
    "outputId": "50c8db49-dd8b-411b-ab7b-447cd7344c70"
   },
   "outputs": [
    {
     "name": "stdout",
     "output_type": "stream",
     "text": [
      "Train on 7982 samples, validate on 1000 samples\n",
      "Epoch 1/8\n",
      "7982/7982 [==============================] - 2s 197us/step - loss: 2.2512 - accuracy: 0.5661 - val_loss: 1.4220 - val_accuracy: 0.6860\n",
      "Epoch 2/8\n",
      "7982/7982 [==============================] - 1s 177us/step - loss: 1.1176 - accuracy: 0.7568 - val_loss: 1.1096 - val_accuracy: 0.7510\n",
      "Epoch 3/8\n",
      "7982/7982 [==============================] - 1s 179us/step - loss: 0.7901 - accuracy: 0.8325 - val_loss: 0.9737 - val_accuracy: 0.7970\n",
      "Epoch 4/8\n",
      "7982/7982 [==============================] - 1s 179us/step - loss: 0.5725 - accuracy: 0.8814 - val_loss: 0.9189 - val_accuracy: 0.8070\n",
      "Epoch 5/8\n",
      "7982/7982 [==============================] - 1s 177us/step - loss: 0.4216 - accuracy: 0.9118 - val_loss: 0.8833 - val_accuracy: 0.8230\n",
      "Epoch 6/8\n",
      "7982/7982 [==============================] - 1s 179us/step - loss: 0.3153 - accuracy: 0.9328 - val_loss: 0.9281 - val_accuracy: 0.8090\n",
      "Epoch 7/8\n",
      "7982/7982 [==============================] - 1s 177us/step - loss: 0.2523 - accuracy: 0.9396 - val_loss: 0.8797 - val_accuracy: 0.8190\n",
      "Epoch 8/8\n",
      "7982/7982 [==============================] - 1s 182us/step - loss: 0.2041 - accuracy: 0.9496 - val_loss: 0.9505 - val_accuracy: 0.8130\n",
      "confusion matrix:\n",
      "[[ 8  2  0 ...  0  0  0]\n",
      " [ 0 89  0 ...  0  0  0]\n",
      " [ 0  2 16 ...  0  0  0]\n",
      " ...\n",
      " [ 0  0  0 ...  4  0  0]\n",
      " [ 0  0  0 ...  0  4  0]\n",
      " [ 0  0  0 ...  0  0  0]]\n",
      "classification raport:\n",
      "              precision    recall  f1-score   support\n",
      "\n",
      "           0       0.89      0.67      0.76        12\n",
      "           1       0.64      0.85      0.73       105\n",
      "           2       0.76      0.80      0.78        20\n",
      "           3       0.94      0.90      0.92       813\n",
      "           4       0.78      0.91      0.84       474\n",
      "           6       0.93      0.93      0.93        14\n",
      "           7       1.00      0.33      0.50         3\n",
      "           8       0.73      0.63      0.68        38\n",
      "           9       0.84      0.64      0.73        25\n",
      "          10       0.87      0.90      0.89        30\n",
      "          11       0.56      0.73      0.64        83\n",
      "          12       0.33      0.08      0.12        13\n",
      "          13       0.61      0.46      0.52        37\n",
      "          15       0.50      0.11      0.18         9\n",
      "          16       0.59      0.78      0.67        99\n",
      "          17       1.00      0.25      0.40        12\n",
      "          18       0.63      0.60      0.62        20\n",
      "          19       0.63      0.68      0.66       133\n",
      "          20       0.53      0.57      0.55        70\n",
      "          21       0.69      0.67      0.68        27\n",
      "          23       0.50      0.50      0.50        12\n",
      "          24       0.67      0.32      0.43        19\n",
      "          25       0.83      0.61      0.70        31\n",
      "          26       1.00      0.75      0.86         8\n",
      "          27       1.00      0.25      0.40         4\n",
      "          28       0.33      0.10      0.15        10\n",
      "          29       0.33      0.50      0.40         4\n",
      "          30       1.00      0.33      0.50        12\n",
      "          31       0.64      0.54      0.58        13\n",
      "          32       1.00      0.60      0.75        10\n",
      "          33       1.00      0.60      0.75         5\n",
      "          34       0.83      0.71      0.77         7\n",
      "          35       1.00      0.17      0.29         6\n",
      "          36       0.33      0.09      0.14        11\n",
      "          37       0.50      0.50      0.50         2\n",
      "          38       1.00      0.33      0.50         3\n",
      "          40       1.00      0.20      0.33        10\n",
      "          41       0.67      0.25      0.36         8\n",
      "          42       1.00      0.33      0.50         3\n",
      "          43       0.80      0.67      0.73         6\n",
      "          44       1.00      0.80      0.89         5\n",
      "\n",
      "   micro avg       0.78      0.79      0.79      2226\n",
      "   macro avg       0.75      0.53      0.58      2226\n",
      "weighted avg       0.79      0.79      0.78      2226\n",
      "\n"
     ]
    }
   ],
   "source": [
    "model = models.Sequential()\n",
    "model.add(layers.Dense(128, activation='relu', input_shape=(10000,)))\n",
    "model.add(layers.Dense(128, activation='relu'))\n",
    "model.add(layers.Dense(46, activation='softmax'))\n",
    "\n",
    "model.compile(optimizer='rmsprop',\n",
    "              loss='categorical_crossentropy',\n",
    "              metrics=['accuracy'])\n",
    "\n",
    "model.fit(partial_x_train,\n",
    "          partial_y_train,\n",
    "          epochs=8,\n",
    "          batch_size=512,\n",
    "          validation_data=(x_val, y_val))\n",
    "\n",
    "predictions = model.predict(x_test);\n",
    "\n",
    "predicted_labels = np.array([np.argmax(predictions[i]) for i in range(0, predictions.shape[0])])\n",
    "\n",
    "print(\"confusion matrix:\")\n",
    "print(confusion_matrix(y_test, predicted_labels))\n",
    "print(\"classification raport:\")\n",
    "print(classification_report(y_test, predicted_labels, labels=np.unique(predicted_labels)))"
   ]
  },
  {
   "cell_type": "markdown",
   "metadata": {
    "colab_type": "text",
    "id": "6zyfm63meBZt"
   },
   "source": [
    "precision: 0.79, f1-score: 0.78"
   ]
  },
  {
   "cell_type": "markdown",
   "metadata": {
    "colab_type": "text",
    "id": "5aDQ5aNJeE6i"
   },
   "source": [
    "2 hidden layers, 128 layer size, categorical_hinge loss function, relu activation function"
   ]
  },
  {
   "cell_type": "code",
   "execution_count": 0,
   "metadata": {
    "colab": {
     "base_uri": "https://localhost:8080/",
     "height": 884
    },
    "colab_type": "code",
    "id": "h-wHaD2mfZlo",
    "outputId": "b140ebf0-8e56-48e1-990a-5edd8758c046"
   },
   "outputs": [
    {
     "name": "stdout",
     "output_type": "stream",
     "text": [
      "Train on 7982 samples, validate on 1000 samples\n",
      "Epoch 1/8\n",
      "7982/7982 [==============================] - 1s 151us/step - loss: 0.9843 - accuracy: 0.4739 - val_loss: 0.8381 - val_accuracy: 0.5680\n",
      "Epoch 2/8\n",
      "7982/7982 [==============================] - 1s 131us/step - loss: 0.6569 - accuracy: 0.6277 - val_loss: 0.5677 - val_accuracy: 0.6520\n",
      "Epoch 3/8\n",
      "7982/7982 [==============================] - 1s 129us/step - loss: 0.5139 - accuracy: 0.6967 - val_loss: 0.5112 - val_accuracy: 0.7060\n",
      "Epoch 4/8\n",
      "7982/7982 [==============================] - 1s 128us/step - loss: 0.4588 - accuracy: 0.7373 - val_loss: 0.4897 - val_accuracy: 0.7170\n",
      "Epoch 5/8\n",
      "7982/7982 [==============================] - 1s 128us/step - loss: 0.4092 - accuracy: 0.7620 - val_loss: 0.4681 - val_accuracy: 0.7350\n",
      "Epoch 6/8\n",
      "7982/7982 [==============================] - 1s 129us/step - loss: 0.3698 - accuracy: 0.7897 - val_loss: 0.4472 - val_accuracy: 0.7510\n",
      "Epoch 7/8\n",
      "7982/7982 [==============================] - 1s 132us/step - loss: 0.3359 - accuracy: 0.8158 - val_loss: 0.4320 - val_accuracy: 0.7720\n",
      "Epoch 8/8\n",
      "7982/7982 [==============================] - 1s 127us/step - loss: 0.3044 - accuracy: 0.8388 - val_loss: 0.4264 - val_accuracy: 0.7730\n",
      "confusion matrix:\n",
      "[[ 5  4  0 ...  0  0  0]\n",
      " [ 0 90  0 ...  0  0  0]\n",
      " [ 0  5  5 ...  0  0  0]\n",
      " ...\n",
      " [ 0  0  0 ...  0  0  0]\n",
      " [ 0  0  0 ...  0  0  0]\n",
      " [ 0  0  0 ...  0  0  0]]\n",
      "classification raport:\n",
      "              precision    recall  f1-score   support\n",
      "\n",
      "           0       0.50      0.42      0.45        12\n",
      "           1       0.45      0.86      0.59       105\n",
      "           2       0.83      0.25      0.38        20\n",
      "           3       0.93      0.95      0.94       813\n",
      "           4       0.89      0.89      0.89       474\n",
      "           6       1.00      0.14      0.25        14\n",
      "           8       0.72      0.68      0.70        38\n",
      "           9       0.74      0.68      0.71        25\n",
      "          10       0.55      0.40      0.46        30\n",
      "          11       0.50      0.76      0.60        83\n",
      "          13       0.53      0.49      0.51        37\n",
      "          16       0.59      0.82      0.69        99\n",
      "          18       0.62      0.25      0.36        20\n",
      "          19       0.66      0.69      0.67       133\n",
      "          20       0.29      0.59      0.39        70\n",
      "          21       0.60      0.44      0.51        27\n",
      "          24       0.00      0.00      0.00        19\n",
      "          25       0.80      0.65      0.71        31\n",
      "\n",
      "   micro avg       0.75      0.82      0.78      2050\n",
      "   macro avg       0.62      0.55      0.55      2050\n",
      "weighted avg       0.78      0.82      0.79      2050\n",
      "\n"
     ]
    }
   ],
   "source": [
    "model = models.Sequential()\n",
    "model.add(layers.Dense(64, activation='relu', input_shape=(10000,)))\n",
    "model.add(layers.Dense(64, activation='relu'))\n",
    "model.add(layers.Dense(46, activation='softmax'))\n",
    "\n",
    "model.compile(optimizer='rmsprop',\n",
    "              loss='categorical_hinge',\n",
    "              metrics=['accuracy'])\n",
    "\n",
    "model.fit(partial_x_train,\n",
    "          partial_y_train,\n",
    "          epochs=8,\n",
    "          batch_size=512,\n",
    "          validation_data=(x_val, y_val))\n",
    "\n",
    "predictions = model.predict(x_test);\n",
    "\n",
    "predicted_labels = np.array([np.argmax(predictions[i]) for i in range(0, predictions.shape[0])])\n",
    "\n",
    "print(\"confusion matrix:\")\n",
    "print(confusion_matrix(y_test, predicted_labels))\n",
    "print(\"classification raport:\")\n",
    "print(classification_report(y_test, predicted_labels, labels=np.unique(predicted_labels)))"
   ]
  },
  {
   "cell_type": "markdown",
   "metadata": {
    "colab_type": "text",
    "id": "4RQLRWohfiPW"
   },
   "source": [
    "precision: 0.78, f1-score: 0.79"
   ]
  },
  {
   "cell_type": "markdown",
   "metadata": {
    "colab_type": "text",
    "id": "BplSih_5flye"
   },
   "source": [
    "2 hidden layers, 128 layer size, categorical_crossentropy loss function, tanh activation function"
   ]
  },
  {
   "cell_type": "code",
   "execution_count": 0,
   "metadata": {
    "colab": {
     "base_uri": "https://localhost:8080/",
     "height": 1000
    },
    "colab_type": "code",
    "id": "CflWbSn8frLy",
    "outputId": "10e7d91e-17bf-4256-ce9f-1d23d42d2540"
   },
   "outputs": [
    {
     "name": "stdout",
     "output_type": "stream",
     "text": [
      "Train on 7982 samples, validate on 1000 samples\n",
      "Epoch 1/8\n",
      "7982/7982 [==============================] - 1s 138us/step - loss: 2.2814 - accuracy: 0.5426 - val_loss: 1.5813 - val_accuracy: 0.6440\n",
      "Epoch 2/8\n",
      "7982/7982 [==============================] - 1s 131us/step - loss: 1.3139 - accuracy: 0.7264 - val_loss: 1.2317 - val_accuracy: 0.7360\n",
      "Epoch 3/8\n",
      "7982/7982 [==============================] - 1s 127us/step - loss: 0.9757 - accuracy: 0.8054 - val_loss: 1.0652 - val_accuracy: 0.7820\n",
      "Epoch 4/8\n",
      "7982/7982 [==============================] - 1s 128us/step - loss: 0.7505 - accuracy: 0.8624 - val_loss: 0.9497 - val_accuracy: 0.8110\n",
      "Epoch 5/8\n",
      "7982/7982 [==============================] - 1s 127us/step - loss: 0.5830 - accuracy: 0.8960 - val_loss: 0.8885 - val_accuracy: 0.8170\n",
      "Epoch 6/8\n",
      "7982/7982 [==============================] - 1s 127us/step - loss: 0.4563 - accuracy: 0.9211 - val_loss: 0.8510 - val_accuracy: 0.8190\n",
      "Epoch 7/8\n",
      "7982/7982 [==============================] - 1s 127us/step - loss: 0.3595 - accuracy: 0.9337 - val_loss: 0.8341 - val_accuracy: 0.8200\n",
      "Epoch 8/8\n",
      "7982/7982 [==============================] - 1s 128us/step - loss: 0.2870 - accuracy: 0.9435 - val_loss: 0.8242 - val_accuracy: 0.8230\n",
      "confusion matrix:\n",
      "[[ 8  2  0 ...  0  0  0]\n",
      " [ 0 86  0 ...  0  0  0]\n",
      " [ 0  3 14 ...  0  0  0]\n",
      " ...\n",
      " [ 0  0  0 ...  5  0  0]\n",
      " [ 0  0  0 ...  0  4  0]\n",
      " [ 0  0  0 ...  0  0  0]]\n",
      "classification raport:\n",
      "              precision    recall  f1-score   support\n",
      "\n",
      "           0       0.89      0.67      0.76        12\n",
      "           1       0.69      0.82      0.75       105\n",
      "           2       0.70      0.70      0.70        20\n",
      "           3       0.91      0.94      0.93       813\n",
      "           4       0.81      0.88      0.84       474\n",
      "           6       0.81      0.93      0.87        14\n",
      "           7       1.00      0.33      0.50         3\n",
      "           8       0.68      0.66      0.67        38\n",
      "           9       0.83      0.60      0.70        25\n",
      "          10       0.83      0.83      0.83        30\n",
      "          11       0.58      0.71      0.64        83\n",
      "          12       0.33      0.08      0.12        13\n",
      "          13       0.57      0.62      0.60        37\n",
      "          15       0.50      0.11      0.18         9\n",
      "          16       0.69      0.80      0.74        99\n",
      "          17       1.00      0.25      0.40        12\n",
      "          18       0.57      0.60      0.59        20\n",
      "          19       0.68      0.67      0.68       133\n",
      "          20       0.64      0.56      0.60        70\n",
      "          21       0.66      0.70      0.68        27\n",
      "          23       0.58      0.58      0.58        12\n",
      "          24       0.58      0.37      0.45        19\n",
      "          25       0.84      0.68      0.75        31\n",
      "          26       1.00      0.88      0.93         8\n",
      "          27       1.00      0.25      0.40         4\n",
      "          28       0.20      0.10      0.13        10\n",
      "          29       0.33      0.25      0.29         4\n",
      "          30       0.60      0.25      0.35        12\n",
      "          31       0.89      0.62      0.73        13\n",
      "          32       0.89      0.80      0.84        10\n",
      "          33       1.00      0.80      0.89         5\n",
      "          34       0.71      0.71      0.71         7\n",
      "          35       1.00      0.17      0.29         6\n",
      "          36       0.33      0.18      0.24        11\n",
      "          37       0.50      0.50      0.50         2\n",
      "          38       1.00      0.33      0.50         3\n",
      "          41       0.50      0.12      0.20         8\n",
      "          42       1.00      0.33      0.50         3\n",
      "          43       0.83      0.83      0.83         6\n",
      "          44       0.67      0.80      0.73         5\n",
      "\n",
      "   micro avg       0.79      0.81      0.80      2216\n",
      "   macro avg       0.72      0.55      0.59      2216\n",
      "weighted avg       0.79      0.81      0.79      2216\n",
      "\n"
     ]
    }
   ],
   "source": [
    "model = models.Sequential()\n",
    "model.add(layers.Dense(64, activation='tanh', input_shape=(10000,)))\n",
    "model.add(layers.Dense(64, activation='tanh'))\n",
    "model.add(layers.Dense(46, activation='softmax'))\n",
    "\n",
    "model.compile(optimizer='rmsprop',\n",
    "              loss='categorical_crossentropy',\n",
    "              metrics=['accuracy'])\n",
    "\n",
    "model.fit(partial_x_train,\n",
    "          partial_y_train,\n",
    "          epochs=8,\n",
    "          batch_size=512,\n",
    "          validation_data=(x_val, y_val))\n",
    "\n",
    "predictions = model.predict(x_test);\n",
    "\n",
    "predicted_labels = np.array([np.argmax(predictions[i]) for i in range(0, predictions.shape[0])])\n",
    "\n",
    "print(\"confusion matrix:\")\n",
    "print(confusion_matrix(y_test, predicted_labels))\n",
    "print(\"classification raport:\")\n",
    "print(classification_report(y_test, predicted_labels, labels=np.unique(predicted_labels)))"
   ]
  },
  {
   "cell_type": "markdown",
   "metadata": {
    "colab_type": "text",
    "id": "u5I6868tgFS-"
   },
   "source": [
    "precision: 0.79, f1-score: 0.79"
   ]
  }
 ],
 "metadata": {
  "colab": {
   "name": "Lecture2b.ipynb",
   "provenance": []
  },
  "kernelspec": {
   "display_name": "Python 3",
   "language": "python",
   "name": "python3"
  },
  "language_info": {
   "codemirror_mode": {
    "name": "ipython",
    "version": 3
   },
   "file_extension": ".py",
   "mimetype": "text/x-python",
   "name": "python",
   "nbconvert_exporter": "python",
   "pygments_lexer": "ipython3",
   "version": "3.7.4"
  }
 },
 "nbformat": 4,
 "nbformat_minor": 1
}
